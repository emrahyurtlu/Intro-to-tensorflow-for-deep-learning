{
  "nbformat": 4,
  "nbformat_minor": 0,
  "metadata": {
    "colab": {
      "name": "LAB 6 - Stochastic Gradient Descent and Learning Rate.ipynb",
      "provenance": [],
      "collapsed_sections": [],
      "include_colab_link": true
    },
    "kernelspec": {
      "name": "python3",
      "display_name": "Python 3"
    },
    "language_info": {
      "name": "python"
    }
  },
  "cells": [
    {
      "cell_type": "markdown",
      "metadata": {
        "id": "view-in-github",
        "colab_type": "text"
      },
      "source": [
        "<a href=\"https://colab.research.google.com/github/emrahyurtlu/Intro-to-tensorflow-for-deep-learning/blob/main/CMPE430/LAB_6_Stochastic_Gradient_Descent_and_Learning_Rate.ipynb\" target=\"_parent\"><img src=\"https://colab.research.google.com/assets/colab-badge.svg\" alt=\"Open In Colab\"/></a>"
      ]
    },
    {
      "cell_type": "markdown",
      "metadata": {
        "id": "1fabnlLPEd1k"
      },
      "source": [
        "#**CMPE430 LAB WEEK 6 - Stochastic Gradient Descent and Learning Rate**\n",
        "\n",
        "25.11.2021 Thursday 14:30-16:20\n",
        "\n",
        "Lab Assistant : Cansen Çağlayan (cansen.caglayan@atilim.edu.tr)"
      ]
    },
    {
      "cell_type": "markdown",
      "metadata": {
        "id": "P5wYhgqpEf-n"
      },
      "source": [
        "**References**\n",
        "\n",
        "Book : Deep Learning with Python, François Chollet\n",
        "\n",
        "https://machinelearningmastery.com/learning-rate-for-deep-learning-neural-networks/\n",
        "\n",
        "https://machinelearningmastery.com/understand-the-dynamics-of-learning-rate-on-deep-learning-neural-networks/\n",
        "\n",
        "https://machinelearningmastery.com/how-to-develop-a-convolutional-neural-network-from-scratch-for-mnist-handwritten-digit-classification/\n",
        "\n",
        "https://medium.com/deep-learning-turkiye/derin-ogrenme-uygulamalarinda-en-sik-kullanilan-hiper-parametreler-ece8e9125c4\n",
        "\n"
      ]
    },
    {
      "cell_type": "code",
      "metadata": {
        "id": "KTqXgbZRLQOd"
      },
      "source": [
        "#Import Libraries\n",
        "import numpy as np\n",
        "import matplotlib.pyplot as plt\n",
        "import tensorflow as tf\n",
        "\n",
        "from tensorflow.keras import models, layers, optimizers, losses, metrics\n",
        "from tensorflow.keras.datasets import mnist\n",
        "from tensorflow.keras.utils import to_categorical\n",
        "from keras.models import Sequential\n",
        "from keras.layers import Dense\n",
        "from tensorflow.keras.optimizers import SGD\n",
        "from sklearn.datasets import make_blobs\n",
        "from matplotlib import pyplot"
      ],
      "execution_count": null,
      "outputs": []
    },
    {
      "cell_type": "markdown",
      "metadata": {
        "id": "QzuGsbH1PDEX"
      },
      "source": [
        "##**Training**"
      ]
    },
    {
      "cell_type": "markdown",
      "metadata": {
        "id": "RiFRKQtHElZr"
      },
      "source": [
        "Each neural layer from our first network example transforms its input data as follows:\n",
        "\n",
        "**output = relu(dot(W, input) + b)**\n",
        "\n",
        "In this expression, **W** and **b** are tensors that are attributes of the layer. They’re called the **weights** or **trainable parameters** of the layer (the kernel and bias attributes, respectively). \n",
        "\n",
        "**These weights contain the information learned by the network from exposure\n",
        "to training data.**\n",
        "\n",
        "Initially, these weight matrices are filled with **small random values** (a step called random initialization).\n",
        "\n",
        "\n",
        "What comes next is to gradually adjust these weights, based on a **feedback signal**. This gradual adjustment, **also called training**, is basically the learning that machine learning is all about.\n",
        "\n",
        "This happens within what’s called a training loop, which works as follows. \n",
        "\n",
        "Repeat these steps in a loop, as long as necessary:\n",
        "\n",
        "1. Draw a batch of training samples x and corresponding targets y.\n",
        "2. Run the network on x (a step called the forward pass) to obtain predictions y_pred.\n",
        "3. Compute the loss of the network on the batch, a measure of the mismatch\n",
        "between y_pred and y.\n",
        "4. Update all weights of the network in a way that slightly reduces the loss on this batch."
      ]
    },
    {
      "cell_type": "markdown",
      "metadata": {
        "id": "zcl8b_uWeeKQ"
      },
      "source": [
        "Note : “Gradient descent is an iterative algorithm, that starts from a random point on a function and travels down its slope in steps until it reaches the lowest point of that function.”\n",
        "\n",
        "“Stochastic”, in plain terms means “random”.\n",
        "\n",
        "Where can we potentially induce randomness in our gradient descent algorithm??\n",
        "\n",
        "It is while selecting data points at each step to calculate the derivatives.\n",
        "\n",
        "SGD randomly picks one data point from the whole data set at each iteration to reduce the computations enormously.\n",
        "\n",
        "It is also common to sample a small number of data points instead of just one point at each step and that is called “mini-batch” gradient descent. Mini-batch tries to strike a balance between the goodness of gradient descent and speed of SGD."
      ]
    },
    {
      "cell_type": "markdown",
      "metadata": {
        "id": "peOkmqC3Sr32"
      },
      "source": [
        "##**Learning Rate**"
      ]
    },
    {
      "cell_type": "markdown",
      "metadata": {
        "id": "1jH5y6X6Sunc"
      },
      "source": [
        "* The weights of a neural network cannot be calculated using an analytical method. Instead, the weights must be discovered via an empirical optimization procedure called **stochastic gradient descent (SGD).**\n",
        "\n",
        "\n"
      ]
    },
    {
      "cell_type": "markdown",
      "metadata": {
        "id": "X8r6h6cPTTXW"
      },
      "source": [
        "* The amount of change to the model during each step of this search process, or the step size, is called the **“learning rate”** and provides perhaps the most important hyperparameter to tune for your neural network in order to achieve good performance on your problem."
      ]
    },
    {
      "cell_type": "markdown",
      "metadata": {
        "id": "Ux9kKPWrT0PJ"
      },
      "source": [
        "**What Is the Learning Rate?**\n",
        "\n",
        "* Deep learning neural networks are trained using the stochastic gradient descent algorithm.\n",
        "\n",
        "* Stochastic gradient descent is an **optimization algorithm** that estimates the error gradient for the current state of the model using examples from the training dataset, **then updates the weights of the model using the back-propagation of errors algorithm**, referred to as simply **backpropagation.**\n",
        "\n",
        "* The amount that the weights are updated during training is referred to as the **\"step\"** size or the **“learning rate.”**\n",
        "\n",
        "* Specifically, the learning rate is a configurable hyperparameter used in the training of neural networks that has a small positive value, often in the range between **0.0 and 1.0.**"
      ]
    },
    {
      "cell_type": "markdown",
      "metadata": {
        "id": "YBeoXSHuUTy_"
      },
      "source": [
        "* During training, the backpropagation of error estimates the amount of error for which the weights of a node in the network are responsible. Instead of updating the weight with the full amount, it is scaled by the learning rate.\n",
        "\n",
        "This means that a learning rate of **0.1**, a traditionally common default value, would mean that weights in the network are updated \n",
        "\n",
        "0.1 * (estimated weight error) or 10% of the estimated weight error each time the weights are updated."
      ]
    },
    {
      "cell_type": "markdown",
      "metadata": {
        "id": "Goo5kUnmUeEr"
      },
      "source": [
        "The learning rate hyperparameter controls the rate or speed at which the model learns. Specifically, it controls the amount of apportioned error that the weights of the model are updated with each time they are updated, such as at the end of each batch of training examples.\n",
        "\n",
        "* Generally, a large learning rate allows the model to learn faster, at the cost of arriving on a sub-optimal final set of weights. \n",
        "\n",
        "* A smaller learning rate may allow the model to learn a more optimal or even globally optimal set of weights but may take significantly longer to train."
      ]
    },
    {
      "cell_type": "markdown",
      "metadata": {
        "id": "lWwdkogfWb8W"
      },
      "source": [
        "It is important to find a good value for the learning rate for your model on your training dataset.\n",
        "\n",
        "**Unfortunately, we cannot analytically calculate the optimal learning rate for a given model on a given dataset. Instead, a good (or good enough) learning rate must be discovered via trial and error.**"
      ]
    },
    {
      "cell_type": "markdown",
      "metadata": {
        "id": "zatR4REFFD_z"
      },
      "source": [
        "---------------------------------------------------------"
      ]
    },
    {
      "cell_type": "markdown",
      "metadata": {
        "id": "lggp98G9wHSw"
      },
      "source": [
        "**NOT :** Derin öğrenmede parametrelerin güncellenmesi geriyeyayılım (“backpropagation”) işlemi ile yapılmaktadır. Backpropagation işleminde bu güncelleme işi “chain rule” olarak adlandırılan geriye doğru türev alarak farkın bulunması ve bulunan fark değerinin **“learning rate”** parametresiyle çarpılması, çıkan sonucun ağırlık değerlerinden çıkarılarak yeni ağırlık değerinin hesaplanmasıyla yapılmaktadır."
      ]
    },
    {
      "cell_type": "markdown",
      "metadata": {
        "id": "aOeZ3sfaDjVo"
      },
      "source": [
        "**Stochastic Gradient Descent**\n",
        "\n",
        "Keras provides the SGD class that implements the stochastic gradient descent optimizer with a learning rate and momentum.\n",
        "\n",
        "First, an instance of the class must be created and configured, then specified to the “optimizer” argument when calling the fit() function on the model.\n",
        "\n",
        "**The default learning rate is 0.01 and no momentum is used by default.**"
      ]
    },
    {
      "cell_type": "code",
      "metadata": {
        "id": "EtET1_W0IhOO"
      },
      "source": [
        "from keras.optimizers import SGD\n",
        "...\n",
        "opt = SGD()\n",
        "model.compile(..., optimizer=opt)"
      ],
      "execution_count": null,
      "outputs": []
    },
    {
      "cell_type": "markdown",
      "metadata": {
        "id": "FGcox0xWDvRu"
      },
      "source": [
        "The learning rate can be specified via the **“lr”** argument and the momentum can be specified via the **“momentum”** argument."
      ]
    },
    {
      "cell_type": "code",
      "metadata": {
        "id": "6RUeOzWODv2B"
      },
      "source": [
        "from keras.optimizers import SGD\n",
        "...\n",
        "opt = SGD(lr=0.01, momentum=0.9)\n",
        "model.compile(..., optimizer=opt)"
      ],
      "execution_count": null,
      "outputs": []
    },
    {
      "cell_type": "markdown",
      "metadata": {
        "id": "jG9-dHO4J-zK"
      },
      "source": [
        "# **Example : Multi-Class Classification Problem**\n",
        "\n",
        "We will use a small multi-class classification problem as the basis to demonstrate the **effect of learning rate on model performance**.\n",
        "\n",
        "The scikit-learn class provides the **make_blobs()** function that can be used to create a **multi-class classification problem with the prescribed number of samples**, input variables, classes, and variance of samples within a class.\n",
        "\n",
        "The problem has two input variables (to represent the x and y coordinates of the points) and a standard deviation of 2.0 for points within each group.\n",
        "\n",
        "We will use the same random state (seed for the pseudorandom number generator) to ensure that we always get the same data points."
      ]
    },
    {
      "cell_type": "markdown",
      "metadata": {
        "id": "NL3IUYILKfIV"
      },
      "source": [
        "## Creating a Dataset\n",
        "Running the example creates a scatter plot of the entire dataset. We can see that the standard deviation of 2.0 means that the classes are not linearly separable (separable by a line), causing many ambiguous points.\n",
        "\n",
        "This is desirable as it means that the problem is non-trivial and will allow a neural network model to find many different “good enough” candidate solutions."
      ]
    },
    {
      "cell_type": "code",
      "metadata": {
        "colab": {
          "base_uri": "https://localhost:8080/",
          "height": 265
        },
        "id": "NPN4xqS6KRvq",
        "outputId": "4d3ade00-72ce-44af-856e-5f136579f1ec"
      },
      "source": [
        "# scatter plot of blobs dataset\n",
        "from numpy import where\n",
        "# generate 2d classification dataset\n",
        "X, y = make_blobs(n_samples=1000, centers=3, n_features=2, cluster_std=2, random_state=2)\n",
        "# scatter plot for each class value\n",
        "for class_value in range(3):\n",
        "\t# select indices of points with the class label\n",
        "\trow_ix = where(y == class_value)\n",
        "\t# scatter plot for points with a different color\n",
        "\tpyplot.scatter(X[row_ix, 0], X[row_ix, 1])\n",
        "# show plot\n",
        "pyplot.show()"
      ],
      "execution_count": null,
      "outputs": [
        {
          "output_type": "display_data",
          "data": {
            "image/png": "[encoded data removed]",
            "text/plain": [
              "<Figure size 432x288 with 1 Axes>"
            ]
          },
          "metadata": {
            "needs_background": "light"
          }
        }
      ]
    },
    {
      "cell_type": "code",
      "metadata": {
        "colab": {
          "base_uri": "https://localhost:8080/"
        },
        "id": "cy-E_oGHpwJG",
        "outputId": "38479efa-6cca-4294-ea1b-2260841d9e6f"
      },
      "source": [
        "X.shape"
      ],
      "execution_count": null,
      "outputs": [
        {
          "output_type": "execute_result",
          "data": {
            "text/plain": [
              "(1000, 2)"
            ]
          },
          "metadata": {},
          "execution_count": 3
        }
      ]
    },
    {
      "cell_type": "code",
      "metadata": {
        "colab": {
          "base_uri": "https://localhost:8080/"
        },
        "id": "vbYrzvqlpxdL",
        "outputId": "df902dda-8260-44a9-8d33-3337b0fea093"
      },
      "source": [
        "y.shape"
      ],
      "execution_count": null,
      "outputs": [
        {
          "output_type": "execute_result",
          "data": {
            "text/plain": [
              "(1000,)"
            ]
          },
          "metadata": {},
          "execution_count": 4
        }
      ]
    },
    {
      "cell_type": "markdown",
      "metadata": {
        "id": "Ip5bUjDAKw0q"
      },
      "source": [
        "##Preparing the Data\n",
        "\n",
        "The first step is to develop a function that will create the samples from the problem and **split them into train and test datasets**.\n",
        "\n",
        "Additionally, we must also **one hot encode the target variable** so that we can develop a model that predicts the probability of an example belonging to each class.\n",
        "\n",
        "**The prepare_data() function below implements this behavior, returning train and test sets split into input and output elements.**"
      ]
    },
    {
      "cell_type": "code",
      "metadata": {
        "id": "HSbwgldvKgBt"
      },
      "source": [
        "# prepare train and test dataset\n",
        "def prepare_data():\n",
        "\t# generate 2d classification dataset\n",
        "\tX, y = make_blobs(n_samples=1000, centers=3, n_features=2, cluster_std=2, random_state=2)\n",
        "\t# one hot encode output variable\n",
        "\ty = to_categorical(y)\n",
        "\t# split into train and test\n",
        "\tn_train = 500\n",
        "\ttrainX, testX = X[:n_train, :], X[n_train:, :]\n",
        "\ttrainy, testy = y[:n_train], y[n_train:]\n",
        "\treturn trainX, trainy, testX, testy"
      ],
      "execution_count": null,
      "outputs": []
    },
    {
      "cell_type": "code",
      "metadata": {
        "id": "b_5BMmzKOUMJ"
      },
      "source": [
        "trainX, trainy, testX, testy = prepare_data()"
      ],
      "execution_count": null,
      "outputs": []
    },
    {
      "cell_type": "markdown",
      "metadata": {
        "id": "edfe0vCKLC8Y"
      },
      "source": [
        "## Model Definition & Compilation\n",
        "\n",
        "* First, we will define a simple model that expects two input variables from the blobs problem, has a single hidden layer with 50 nodes, and an output layer with three nodes to predict the probability for each of the three classes. Nodes in the hidden layer will use the rectified linear activation function **(ReLU)**, whereas nodes in the output layer will use the **softmax activation function.**"
      ]
    },
    {
      "cell_type": "markdown",
      "metadata": {
        "id": "gKN3c-dWLhKq"
      },
      "source": [
        "* We will use the stochastic gradient descent optimizer and require that the learning rate be specified so that we can evaluate different rates. The model will be trained to minimize cross entropy."
      ]
    },
    {
      "cell_type": "markdown",
      "metadata": {
        "id": "0z1ybr9oS2P9"
      },
      "source": [
        "default learning rate = 0.01 and no momentum\n",
        "\n",
        "Where lrate is the learning rate for the current epoch, initial_lrate is the learning rate specified as an argument to SGD"
      ]
    },
    {
      "cell_type": "markdown",
      "metadata": {
        "id": "opliEANf16fG"
      },
      "source": [
        "* A loss function—How the network will be able to measure its performance on\n",
        "the training data, and thus how it will be able to steer itself in the right direction.\n",
        "\n",
        "* An optimizer—The mechanism through which the network will update itself\n",
        "based on the data it sees and its loss function"
      ]
    },
    {
      "cell_type": "code",
      "metadata": {
        "id": "P5GQHV5nPsdi"
      },
      "source": [
        "def fit_model(trainX, trainy, testX, testy, lrate):\n",
        "\t# define model\n",
        "\tmodel = Sequential()\n",
        "\tmodel.add(Dense(50, input_dim=2, activation='relu', kernel_initializer='he_uniform'))\n",
        "\tmodel.add(Dense(3, activation='softmax'))\n",
        " \n",
        "\t# compile model\n",
        "\topt = SGD(learning_rate=lrate)\n",
        "\tmodel.compile(loss='categorical_crossentropy', optimizer=opt, metrics=['accuracy'])\n",
        " \n",
        "\t# fit model\n",
        "\thistory = model.fit(trainX, trainy, validation_data=(testX, testy), epochs=200, verbose=0)\n",
        " \n",
        "\t# plot learning curves\n",
        "\tpyplot.plot(history.history['accuracy'], color='blue', label='train')\n",
        "\tpyplot.plot(history.history['val_accuracy'], color='orange', label='test')\n",
        "\tpyplot.title('lrate='+str(lrate), pad=-50)"
      ],
      "execution_count": null,
      "outputs": []
    },
    {
      "cell_type": "markdown",
      "metadata": {
        "id": "oFWyGbBsNOfz"
      },
      "source": [
        "The model will be fit for 200 training epochs, found with a little trial and error, and the test set will be used as the validation dataset so we can get an idea of the generalization error of the model during training."
      ]
    },
    {
      "cell_type": "markdown",
      "metadata": {
        "id": "mEHGrKnjNXCY"
      },
      "source": [
        "The fit_model() function below ties together these elements and will fit a model and plot its performance given the train and test datasets as well as a specific learning rate to evaluate."
      ]
    },
    {
      "cell_type": "markdown",
      "metadata": {
        "id": "fJKUnVfRNc7f"
      },
      "source": [
        "## Different Learning Rates\n",
        "We can now investigate the dynamics of different learning rates on the train and test accuracy of the model.\n",
        "\n",
        "In this example, we will evaluate learning rates on a logarithmic scale from 1E-0 (1.0) to 1E-7 and create line plots for each learning rate by calling the fit_model() function."
      ]
    },
    {
      "cell_type": "markdown",
      "metadata": {
        "id": "Zq4i4KgF0_e4"
      },
      "source": [
        "* 1E-0 ==   1.0\n",
        "\n",
        "* 1E-1 ==   0.1 \n",
        "\n",
        "* 1E-2 ==   0.01 \n",
        "\n",
        "* 1E-3 ==   0.001\n",
        "\n",
        "* 1E-4 ==   0.0001\n",
        "\n",
        "\n"
      ]
    },
    {
      "cell_type": "code",
      "metadata": {
        "colab": {
          "base_uri": "https://localhost:8080/",
          "height": 278
        },
        "id": "auPng6PaNgp1",
        "outputId": "4ec1e6b5-4b4f-473c-c470-483f7a8fd5db"
      },
      "source": [
        "# create learning curves for different learning rates\n",
        "learning_rates = [1E-0, 1E-1, 1E-2, 1E-3, 1E-4, 1E-5, 1E-6, 1E-7]\n",
        "for i in range(len(learning_rates)):\n",
        "\t# determine the plot number\n",
        "\tplot_no = 420 + (i+1)\n",
        "\tpyplot.subplot(plot_no)\n",
        "\t# fit model and plot learning curves for a learning rate\n",
        "\tfit_model(trainX, trainy, testX, testy, learning_rates[i])\n",
        "# show learning curves\n",
        "pyplot.show()"
      ],
      "execution_count": null,
      "outputs": [
        {
          "output_type": "display_data",
          "data": {
            "image/png": "[encoded data removed]",
            "text/plain": [
              "<Figure size 432x288 with 8 Axes>"
            ]
          },
          "metadata": {
            "needs_background": "light"
          }
        }
      ]
    },
    {
      "cell_type": "markdown",
      "metadata": {
        "id": "PHASymNoNxo3"
      },
      "source": [
        "* Running the example creates a single figure that contains eight line plots for the eight different evaluated learning rates. \n",
        "\n",
        "* Classification accuracy on the **training dataset is marked in blue**, whereas **accuracy on the test dataset is marked in orange**.\n",
        "\n",
        "* The plots show oscillations in behavior for the too-large learning rate of 1.0 and the inability of the model to learn anything with the too-small learning rates of 1E-6 and 1E-7.\n",
        "\n",
        "* We can see that the model was able to learn the problem well with the learning rates 1E-1, 1E-2 and 1E-3, although successively slower as the learning rate was decreased. With the chosen model configuration, the results suggest a moderate learning rate of 0.1 results in good model performance on the train and test sets.\n",
        "\n"
      ]
    },
    {
      "cell_type": "markdown",
      "metadata": {
        "id": "7aYLjJ9Qv0dG"
      },
      "source": [
        "**NOT :**\n",
        "\n",
        "* Learning Rate'in yüksek olması salınıma (oscillations) neden olacaktır. Buna karşı küçük olması da küçük adımlarla ilerleyeceğinden öğrenimin çok uzun sürmesine neden olacaktır.\n",
        "* Learning Rate için en uygun çözüm başlangıçta öğrenme hızı yüksek tutmak, gittikçe azaltmaktır.\n",
        "* Learning Rate başlangıçta çok küçük olması, lokal optimum değere takılarak, global optimum değere hiç ulaşılamamasına neden olabilir.\n",
        "* Learning Rate değeri genelde varsayılan değer olarak 0.01 kullanılmakta belli bir epoch’dan sonra 0.001'e düşürülmektedir."
      ]
    },
    {
      "cell_type": "markdown",
      "metadata": {
        "id": "e3JmllaBJled"
      },
      "source": [
        "##**Adaptive Learning Rate Gradient Descent**\n",
        "Keras also provides a suite of extensions of simple stochastic gradient descent that support adaptive learning rates.\n",
        "\n",
        "Because each method adapts the learning rate, often one learning rate per model weight, little configuration is often required.\n",
        "\n",
        "Two commonly used adaptive learning rate methods include:"
      ]
    },
    {
      "cell_type": "code",
      "metadata": {
        "id": "2pED5sHpJl5E"
      },
      "source": [
        "#RMSProp Optimizer\n",
        "from keras.optimizers import RMSprop\n",
        "...\n",
        "opt = RMSprop()\n",
        "model.compile(..., optimizer=opt)"
      ],
      "execution_count": null,
      "outputs": []
    },
    {
      "cell_type": "code",
      "metadata": {
        "id": "OZ8wsGaGJpR7"
      },
      "source": [
        "#Adam Optimizer\n",
        "from keras.optimizers import Adam\n",
        "...\n",
        "opt = Adam()\n",
        "model.compile(..., optimizer=opt)"
      ],
      "execution_count": null,
      "outputs": []
    },
    {
      "cell_type": "markdown",
      "metadata": {
        "id": "-gCeu-JFxUE-"
      },
      "source": [
        "Note : Momentum can smooth the progression of the learning algorithm that, in turn, can accelerate the training process."
      ]
    },
    {
      "cell_type": "markdown",
      "metadata": {
        "id": "h-8Vt6XKQmPP"
      },
      "source": [
        "#**Learning Rates with MNIST Dataset**"
      ]
    },
    {
      "cell_type": "code",
      "metadata": {
        "id": "X-Sou7ezMgPG"
      },
      "source": [
        "#Load the Dataset\n",
        "(train_images, train_labels), (test_images, test_labels) = mnist.load_data()"
      ],
      "execution_count": null,
      "outputs": []
    },
    {
      "cell_type": "code",
      "metadata": {
        "id": "NfQDsmWVMk6w"
      },
      "source": [
        "train_images = train_images.reshape((60000, 28 * 28))\n",
        "train_images = train_images.astype('float32') / 255\n",
        "test_images = test_images.reshape((10000, 28 * 28))\n",
        "test_images = test_images.astype('float32') / 255"
      ],
      "execution_count": null,
      "outputs": []
    },
    {
      "cell_type": "code",
      "metadata": {
        "id": "rz7jxfbmMmBY"
      },
      "source": [
        "my_model = models.Sequential()\n",
        "my_model.add(layers.Dense(512, activation='relu', input_shape=(28 * 28,)))\n",
        "my_model.add(layers.Dense(10, activation='softmax'))"
      ],
      "execution_count": null,
      "outputs": []
    },
    {
      "cell_type": "code",
      "metadata": {
        "id": "O3mFf_QNMnN8",
        "colab": {
          "base_uri": "https://localhost:8080/"
        },
        "outputId": "cb4b571d-8a89-4e34-f5a0-7eb5149aaa41"
      },
      "source": [
        "#Summarize the Model\n",
        "my_model.summary()"
      ],
      "execution_count": null,
      "outputs": [
        {
          "output_type": "stream",
          "name": "stdout",
          "text": [
            "Model: \"sequential\"\n",
            "_________________________________________________________________\n",
            " Layer (type)                Output Shape              Param #   \n",
            "=================================================================\n",
            " dense (Dense)               (None, 512)               401920    \n",
            "                                                                 \n",
            " dense_1 (Dense)             (None, 10)                5130      \n",
            "                                                                 \n",
            "=================================================================\n",
            "Total params: 407,050\n",
            "Trainable params: 407,050\n",
            "Non-trainable params: 0\n",
            "_________________________________________________________________\n"
          ]
        }
      ]
    },
    {
      "cell_type": "code",
      "metadata": {
        "id": "-7F4YDzBMore",
        "colab": {
          "base_uri": "https://localhost:8080/",
          "height": 312
        },
        "outputId": "94f89681-02ac-4532-a167-7e78dfcedd14"
      },
      "source": [
        "#Plot the Model\n",
        "from tensorflow.keras.utils import plot_model\n",
        "plot_model(my_model, to_file='my_model_plot.png', show_shapes=True, show_layer_names=True)"
      ],
      "execution_count": null,
      "outputs": [
        {
          "output_type": "execute_result",
          "data": {
            "image/png": "[encoded data removed]",
            "text/plain": [
              "<IPython.core.display.Image object>"
            ]
          },
          "metadata": {},
          "execution_count": 7
        }
      ]
    },
    {
      "cell_type": "code",
      "metadata": {
        "id": "opBrIM5WMqx_"
      },
      "source": [
        "opt = SGD(learning_rate=0.1)\n",
        "my_model.compile(optimizer=opt, loss='categorical_crossentropy', metrics=['accuracy'])"
      ],
      "execution_count": null,
      "outputs": []
    },
    {
      "cell_type": "code",
      "metadata": {
        "id": "LVX-9XZnMsI5"
      },
      "source": [
        "#We also need to categorically encode the labels\n",
        "from tensorflow.keras.utils import to_categorical\n",
        "train_labels = to_categorical(train_labels)\n",
        "test_labels = to_categorical(test_labels)"
      ],
      "execution_count": null,
      "outputs": []
    },
    {
      "cell_type": "markdown",
      "metadata": {
        "id": "oVknR6SShzbg"
      },
      "source": [
        "We will use a conservative configuration for the stochastic gradient descent optimizer with a learning rate of 0.01 and a momentum of 0.9. The categorical cross-entropy loss function will be optimized, suitable for multi-class classification, and we will monitor the classification accuracy metric, which is appropriate given we have the same number of examples in each of the 10 classes."
      ]
    },
    {
      "cell_type": "markdown",
      "metadata": {
        "id": "1nasmYOXwaGH"
      },
      "source": [
        "**NOT :**\n",
        "Model eğitilirken verilerin tamamı aynı anda eğitime katılmaz. Belli sayıda parçalar halinde eğitimde yer alırlar. İlk parça eğitilir, modelin başarımı test edilir, başarıma göre geriyeyayılım (“backpropagation”) ile ağırlıklar güncellenir. Daha sonra yeni eğitim kümesi ile model tekrar eğitilip ağırlıklar tekrar güncellenir. Bu işlem her bir eğitim adımında tekrarlanarak model için en uygun ağırlık değerleri hesaplanmaya çalışılır. Bu eğitim adımlarının her birine “epoch” denilmektedir."
      ]
    },
    {
      "cell_type": "code",
      "metadata": {
        "id": "mPbTV-X6MtRd",
        "colab": {
          "base_uri": "https://localhost:8080/"
        },
        "outputId": "4cbd3b90-ab42-4d3c-be2a-177c4fc87e4b"
      },
      "source": [
        "history = my_model.fit(train_images, train_labels, epochs=5, batch_size=128)"
      ],
      "execution_count": null,
      "outputs": [
        {
          "output_type": "stream",
          "name": "stdout",
          "text": [
            "Epoch 1/5\n",
            "469/469 [==============================] - 4s 8ms/step - loss: 0.4369 - accuracy: 0.8836\n",
            "Epoch 2/5\n",
            "469/469 [==============================] - 4s 8ms/step - loss: 0.2451 - accuracy: 0.9310\n",
            "Epoch 3/5\n",
            "469/469 [==============================] - 4s 8ms/step - loss: 0.1944 - accuracy: 0.9452\n",
            "Epoch 4/5\n",
            "469/469 [==============================] - 3s 7ms/step - loss: 0.1626 - accuracy: 0.9548\n",
            "Epoch 5/5\n",
            "469/469 [==============================] - 3s 7ms/step - loss: 0.1393 - accuracy: 0.9613\n"
          ]
        }
      ]
    },
    {
      "cell_type": "code",
      "metadata": {
        "colab": {
          "base_uri": "https://localhost:8080/",
          "height": 281
        },
        "id": "pbPljJhlj0gS",
        "outputId": "39d8f848-f9f9-41b5-8ab6-6ee5cb2599af"
      },
      "source": [
        "# plot loss\n",
        "plt.title('Cross Entropy Loss')\n",
        "plt.plot(history.history['loss'], color='blue', label='train')\n",
        "plt.show()"
      ],
      "execution_count": null,
      "outputs": [
        {
          "output_type": "display_data",
          "data": {
            "image/png": "[encoded data removed]",
            "text/plain": [
              "<Figure size 432x288 with 1 Axes>"
            ]
          },
          "metadata": {
            "needs_background": "light"
          }
        }
      ]
    },
    {
      "cell_type": "code",
      "metadata": {
        "colab": {
          "base_uri": "https://localhost:8080/",
          "height": 281
        },
        "id": "xFbnRo0alTQu",
        "outputId": "440e2c56-22e9-4497-8424-c173d5bdc9fc"
      },
      "source": [
        "# plot accuracy\n",
        "plt.title('Classification Accuracy')\n",
        "plt.plot(history.history['accuracy'], color='blue', label='train')\n",
        "plt.show()"
      ],
      "execution_count": null,
      "outputs": [
        {
          "output_type": "display_data",
          "data": {
            "image/png": "[encoded data removed]",
            "text/plain": [
              "<Figure size 432x288 with 1 Axes>"
            ]
          },
          "metadata": {
            "needs_background": "light"
          }
        }
      ]
    },
    {
      "cell_type": "code",
      "metadata": {
        "id": "eyDTbMo3Mu-x",
        "colab": {
          "base_uri": "https://localhost:8080/"
        },
        "outputId": "005e93d1-84ae-40c4-e7e1-47f15d87bbf9"
      },
      "source": [
        "#Evaluate the Loaded Model\n",
        "test_loss, test_acc = my_model.evaluate(test_images, test_labels, verbose=0)\n",
        "#print('test_acc:', test_acc)\n",
        "print('test_loss:', test_loss)\n",
        "print('> test_acc: %.3f' % (test_acc * 100.0))"
      ],
      "execution_count": null,
      "outputs": [
        {
          "output_type": "stream",
          "name": "stdout",
          "text": [
            "test_loss: 0.13228949904441833\n",
            "> test_acc: 96.160\n"
          ]
        }
      ]
    },
    {
      "cell_type": "markdown",
      "metadata": {
        "id": "7YZATQ7ujlMW"
      },
      "source": [
        "**Change the Learning Rate Value**"
      ]
    },
    {
      "cell_type": "code",
      "metadata": {
        "id": "YYzBZU7Rnqur"
      },
      "source": [
        "my_model2 = models.Sequential()\n",
        "my_model2.add(layers.Dense(512, activation='relu', input_shape=(28 * 28,)))\n",
        "my_model2.add(layers.Dense(10, activation='softmax'))"
      ],
      "execution_count": null,
      "outputs": []
    },
    {
      "cell_type": "code",
      "metadata": {
        "id": "OVV-mMc4jobp"
      },
      "source": [
        "opt2 = SGD(learning_rate=0.000001)\n",
        "my_model2.compile(optimizer=opt2, loss='categorical_crossentropy', metrics=['accuracy'])"
      ],
      "execution_count": null,
      "outputs": []
    },
    {
      "cell_type": "code",
      "metadata": {
        "colab": {
          "base_uri": "https://localhost:8080/"
        },
        "id": "uo7YVcPPnATn",
        "outputId": "949dcdec-bbde-4032-dba1-5b3167868b58"
      },
      "source": [
        "history = my_model2.fit(train_images, train_labels, epochs=5, batch_size=128)"
      ],
      "execution_count": null,
      "outputs": [
        {
          "output_type": "stream",
          "name": "stdout",
          "text": [
            "Epoch 1/5\n",
            "469/469 [==============================] - 4s 7ms/step - loss: 2.3755 - accuracy: 0.0994\n",
            "Epoch 2/5\n",
            "469/469 [==============================] - 3s 7ms/step - loss: 2.3747 - accuracy: 0.0996\n",
            "Epoch 3/5\n",
            "469/469 [==============================] - 4s 7ms/step - loss: 2.3739 - accuracy: 0.0998\n",
            "Epoch 4/5\n",
            "469/469 [==============================] - 4s 8ms/step - loss: 2.3731 - accuracy: 0.1001\n",
            "Epoch 5/5\n",
            "469/469 [==============================] - 3s 7ms/step - loss: 2.3723 - accuracy: 0.1003\n"
          ]
        }
      ]
    },
    {
      "cell_type": "code",
      "metadata": {
        "colab": {
          "base_uri": "https://localhost:8080/",
          "height": 281
        },
        "id": "gtN4T1X8nFaw",
        "outputId": "1bf6b817-ed0b-4ef7-cb80-4ee66d8e1d78"
      },
      "source": [
        "# plot loss\n",
        "plt.title('Cross Entropy Loss')\n",
        "plt.plot(history.history['loss'], color='orange', label='train')\n",
        "plt.show()"
      ],
      "execution_count": null,
      "outputs": [
        {
          "output_type": "display_data",
          "data": {
            "image/png": "[encoded data removed]",
            "text/plain": [
              "<Figure size 432x288 with 1 Axes>"
            ]
          },
          "metadata": {
            "needs_background": "light"
          }
        }
      ]
    },
    {
      "cell_type": "code",
      "metadata": {
        "colab": {
          "base_uri": "https://localhost:8080/",
          "height": 281
        },
        "id": "TOYiwKhpnKFm",
        "outputId": "c6a29652-9bc1-4c41-dad9-0c23f59612e1"
      },
      "source": [
        "# plot accuracy\n",
        "plt.title('Classification Accuracy')\n",
        "plt.plot(history.history['accuracy'], color='orange', label='train')\n",
        "plt.show()"
      ],
      "execution_count": null,
      "outputs": [
        {
          "output_type": "display_data",
          "data": {
            "image/png": "[encoded data removed]",
            "text/plain": [
              "<Figure size 432x288 with 1 Axes>"
            ]
          },
          "metadata": {
            "needs_background": "light"
          }
        }
      ]
    },
    {
      "cell_type": "code",
      "metadata": {
        "colab": {
          "base_uri": "https://localhost:8080/"
        },
        "id": "FbY_3rLinMcs",
        "outputId": "6a5bb9bb-42be-4310-c46d-c42056cf6350"
      },
      "source": [
        "#Evaluate the Loaded Model\n",
        "test_loss2, test_acc2 = my_model2.evaluate(test_images, test_labels, verbose=0)\n",
        "#print('test_acc:', test_acc2)\n",
        "print('test_loss2:', test_loss2)\n",
        "print('> test_acc2: %.3f' % (test_acc2 * 100.0))"
      ],
      "execution_count": null,
      "outputs": [
        {
          "output_type": "stream",
          "name": "stdout",
          "text": [
            "test_loss2: 2.377464532852173\n",
            "> test_acc2: 9.870\n"
          ]
        }
      ]
    }
  ]
}