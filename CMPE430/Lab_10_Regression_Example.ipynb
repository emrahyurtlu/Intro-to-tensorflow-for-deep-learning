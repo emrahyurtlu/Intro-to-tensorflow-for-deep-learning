{
  "nbformat": 4,
  "nbformat_minor": 0,
  "metadata": {
    "colab": {
      "name": "Lab 10 - Regression Example.ipynb",
      "provenance": [],
      "collapsed_sections": [],
      "include_colab_link": true
    },
    "kernelspec": {
      "name": "python3",
      "display_name": "Python 3"
    },
    "language_info": {
      "name": "python"
    }
  },
  "cells": [
    {
      "cell_type": "markdown",
      "metadata": {
        "id": "view-in-github",
        "colab_type": "text"
      },
      "source": [
        "<a href=\"https://colab.research.google.com/github/emrahyurtlu/deep-learning/blob/main/CMPE430/Lab_10_Regression_Example.ipynb\" target=\"_parent\"><img src=\"https://colab.research.google.com/assets/colab-badge.svg\" alt=\"Open In Colab\"/></a>"
      ]
    },
    {
      "cell_type": "markdown",
      "source": [
        "#**CMPE430 LAB WEEK 10 - Regression Example**\n",
        "\n",
        "23.12.2021 Thursday 14:30-16:20\n",
        "\n",
        "Lab Assistant : Cansen Çağlayan (cansen.caglayan@atilim.edu.tr)"
      ],
      "metadata": {
        "id": "0xjqgDKdayAW"
      }
    },
    {
      "cell_type": "markdown",
      "source": [
        "**References**\n",
        "\n",
        "Book : Deep Learning with Python, François Chollet\n",
        "\n",
        "https://www.tensorflow.org/tutorials/keras/regression"
      ],
      "metadata": {
        "id": "aSB7q-vWa12W"
      }
    },
    {
      "cell_type": "markdown",
      "source": [
        "Another common type of machine-learning problem is regression, which consists of predicting a continuous value instead of a discrete label:\n",
        "\n",
        "* for instance, predicting the temperature tomorrow, given\n",
        "meteorological data; or\n",
        "\n",
        "* predicting the time that a software project will take to complete,\n",
        "given its specifications."
      ],
      "metadata": {
        "id": "iDeex7JXbFAQ"
      }
    },
    {
      "cell_type": "markdown",
      "source": [
        "-- continuous value:\n",
        "Any value between 0 – 200\n",
        "(infinitve # of values)\n",
        "\n",
        "-- discrete label:\n",
        "One selected value from\n",
        "a list {hot, cold}"
      ],
      "metadata": {
        "id": "SanCvpbmbUfT"
      }
    },
    {
      "cell_type": "markdown",
      "source": [
        "**Note :** Don’t confuse regression and the algorithm **logistic regression**. Confusingly, logistic regression isn’t a regression algorithm—it’s a **classification** algorithm."
      ],
      "metadata": {
        "id": "iU4DkVTzcP6H"
      }
    },
    {
      "cell_type": "markdown",
      "source": [
        "In a regression problem, the aim is to predict the output of a continuous value, like a price or a probability."
      ],
      "metadata": {
        "id": "edwKdlA9c3Ji"
      }
    },
    {
      "cell_type": "markdown",
      "source": [
        "This tutorial uses the classic Auto MPG (miles per gallon) dataset and demonstrates how to build models to predict the fuel efficiency of the late-1970s and early 1980s automobiles. To do this, you will provide the models with a description of many automobiles from that time period. This description includes attributes like cylinders, displacement, horsepower, and weight."
      ],
      "metadata": {
        "id": "wkPty3k_dKcK"
      }
    },
    {
      "cell_type": "markdown",
      "source": [
        "The Auto MPG dataset : https://archive.ics.uci.edu/ml/index.php\n"
      ],
      "metadata": {
        "id": "xA1gsXYodWCm"
      }
    },
    {
      "cell_type": "code",
      "source": [
        "#Import Libraries\n",
        "import matplotlib.pyplot as plt\n",
        "import numpy as np\n",
        "import pandas as pd\n",
        "import seaborn as sns\n",
        "import tensorflow as tf\n",
        "\n",
        "from tensorflow import keras\n",
        "from tensorflow.keras import layers"
      ],
      "metadata": {
        "id": "vOnCCLBYdNvA"
      },
      "execution_count": null,
      "outputs": []
    },
    {
      "cell_type": "markdown",
      "source": [
        "#Load the Data"
      ],
      "metadata": {
        "id": "uBz7moGTdo6y"
      }
    },
    {
      "cell_type": "code",
      "source": [
        "url = 'http://archive.ics.uci.edu/ml/machine-learning-databases/auto-mpg/auto-mpg.data'\n",
        "\n",
        "column_names = ['MPG', 'Cylinders', 'Displacement', 'Horsepower', 'Weight',\n",
        "                'Acceleration', 'Model Year', 'Origin']\n",
        "\n",
        "raw_dataset = pd.read_csv(url, names=column_names,\n",
        "                          na_values='?', comment='\\t',\n",
        "                          sep=' ', skipinitialspace=True)"
      ],
      "metadata": {
        "id": "xVkBfLFgdPsl"
      },
      "execution_count": null,
      "outputs": []
    },
    {
      "cell_type": "code",
      "source": [
        "dataset = raw_dataset.copy()\n",
        "dataset.tail()"
      ],
      "metadata": {
        "colab": {
          "base_uri": "https://localhost:8080/",
          "height": 206
        },
        "id": "sfE9yCWldhUH",
        "outputId": "16eb9e09-7712-449c-fa24-e7004a2d91c8"
      },
      "execution_count": null,
      "outputs": [
        {
          "output_type": "execute_result",
          "data": {
            "text/html": [
              "\n",
              "  <div id=\"df-c326d23a-eb0c-40a7-a5a5-98ab070c719c\">\n",
              "    <div class=\"colab-df-container\">\n",
              "      <div>\n",
              "<style scoped>\n",
              "    .dataframe tbody tr th:only-of-type {\n",
              "        vertical-align: middle;\n",
              "    }\n",
              "\n",
              "    .dataframe tbody tr th {\n",
              "        vertical-align: top;\n",
              "    }\n",
              "\n",
              "    .dataframe thead th {\n",
              "        text-align: right;\n",
              "    }\n",
              "</style>\n",
              "<table border=\"1\" class=\"dataframe\">\n",
              "  <thead>\n",
              "    <tr style=\"text-align: right;\">\n",
              "      <th></th>\n",
              "      <th>MPG</th>\n",
              "      <th>Cylinders</th>\n",
              "      <th>Displacement</th>\n",
              "      <th>Horsepower</th>\n",
              "      <th>Weight</th>\n",
              "      <th>Acceleration</th>\n",
              "      <th>Model Year</th>\n",
              "      <th>Origin</th>\n",
              "    </tr>\n",
              "  </thead>\n",
              "  <tbody>\n",
              "    <tr>\n",
              "      <th>393</th>\n",
              "      <td>27.0</td>\n",
              "      <td>4</td>\n",
              "      <td>140.0</td>\n",
              "      <td>86.0</td>\n",
              "      <td>2790.0</td>\n",
              "      <td>15.6</td>\n",
              "      <td>82</td>\n",
              "      <td>1</td>\n",
              "    </tr>\n",
              "    <tr>\n",
              "      <th>394</th>\n",
              "      <td>44.0</td>\n",
              "      <td>4</td>\n",
              "      <td>97.0</td>\n",
              "      <td>52.0</td>\n",
              "      <td>2130.0</td>\n",
              "      <td>24.6</td>\n",
              "      <td>82</td>\n",
              "      <td>2</td>\n",
              "    </tr>\n",
              "    <tr>\n",
              "      <th>395</th>\n",
              "      <td>32.0</td>\n",
              "      <td>4</td>\n",
              "      <td>135.0</td>\n",
              "      <td>84.0</td>\n",
              "      <td>2295.0</td>\n",
              "      <td>11.6</td>\n",
              "      <td>82</td>\n",
              "      <td>1</td>\n",
              "    </tr>\n",
              "    <tr>\n",
              "      <th>396</th>\n",
              "      <td>28.0</td>\n",
              "      <td>4</td>\n",
              "      <td>120.0</td>\n",
              "      <td>79.0</td>\n",
              "      <td>2625.0</td>\n",
              "      <td>18.6</td>\n",
              "      <td>82</td>\n",
              "      <td>1</td>\n",
              "    </tr>\n",
              "    <tr>\n",
              "      <th>397</th>\n",
              "      <td>31.0</td>\n",
              "      <td>4</td>\n",
              "      <td>119.0</td>\n",
              "      <td>82.0</td>\n",
              "      <td>2720.0</td>\n",
              "      <td>19.4</td>\n",
              "      <td>82</td>\n",
              "      <td>1</td>\n",
              "    </tr>\n",
              "  </tbody>\n",
              "</table>\n",
              "</div>\n",
              "      <button class=\"colab-df-convert\" onclick=\"convertToInteractive('df-c326d23a-eb0c-40a7-a5a5-98ab070c719c')\"\n",
              "              title=\"Convert this dataframe to an interactive table.\"\n",
              "              style=\"display:none;\">\n",
              "        \n",
              "  <svg xmlns=\"http://www.w3.org/2000/svg\" height=\"24px\"viewBox=\"0 0 24 24\"\n",
              "       width=\"24px\">\n",
              "    <path d=\"M0 0h24v24H0V0z\" fill=\"none\"/>\n",
              "    <path d=\"M18.56 5.44l.94 2.06.94-2.06 2.06-.94-2.06-.94-.94-2.06-.94 2.06-2.06.94zm-11 1L8.5 8.5l.94-2.06 2.06-.94-2.06-.94L8.5 2.5l-.94 2.06-2.06.94zm10 10l.94 2.06.94-2.06 2.06-.94-2.06-.94-.94-2.06-.94 2.06-2.06.94z\"/><path d=\"M17.41 7.96l-1.37-1.37c-.4-.4-.92-.59-1.43-.59-.52 0-1.04.2-1.43.59L10.3 9.45l-7.72 7.72c-.78.78-.78 2.05 0 2.83L4 21.41c.39.39.9.59 1.41.59.51 0 1.02-.2 1.41-.59l7.78-7.78 2.81-2.81c.8-.78.8-2.07 0-2.86zM5.41 20L4 18.59l7.72-7.72 1.47 1.35L5.41 20z\"/>\n",
              "  </svg>\n",
              "      </button>\n",
              "      \n",
              "  <style>\n",
              "    .colab-df-container {\n",
              "      display:flex;\n",
              "      flex-wrap:wrap;\n",
              "      gap: 12px;\n",
              "    }\n",
              "\n",
              "    .colab-df-convert {\n",
              "      background-color: #E8F0FE;\n",
              "      border: none;\n",
              "      border-radius: 50%;\n",
              "      cursor: pointer;\n",
              "      display: none;\n",
              "      fill: #1967D2;\n",
              "      height: 32px;\n",
              "      padding: 0 0 0 0;\n",
              "      width: 32px;\n",
              "    }\n",
              "\n",
              "    .colab-df-convert:hover {\n",
              "      background-color: #E2EBFA;\n",
              "      box-shadow: 0px 1px 2px rgba(60, 64, 67, 0.3), 0px 1px 3px 1px rgba(60, 64, 67, 0.15);\n",
              "      fill: #174EA6;\n",
              "    }\n",
              "\n",
              "    [theme=dark] .colab-df-convert {\n",
              "      background-color: #3B4455;\n",
              "      fill: #D2E3FC;\n",
              "    }\n",
              "\n",
              "    [theme=dark] .colab-df-convert:hover {\n",
              "      background-color: #434B5C;\n",
              "      box-shadow: 0px 1px 3px 1px rgba(0, 0, 0, 0.15);\n",
              "      filter: drop-shadow(0px 1px 2px rgba(0, 0, 0, 0.3));\n",
              "      fill: #FFFFFF;\n",
              "    }\n",
              "  </style>\n",
              "\n",
              "      <script>\n",
              "        const buttonEl =\n",
              "          document.querySelector('#df-c326d23a-eb0c-40a7-a5a5-98ab070c719c button.colab-df-convert');\n",
              "        buttonEl.style.display =\n",
              "          google.colab.kernel.accessAllowed ? 'block' : 'none';\n",
              "\n",
              "        async function convertToInteractive(key) {\n",
              "          const element = document.querySelector('#df-c326d23a-eb0c-40a7-a5a5-98ab070c719c');\n",
              "          const dataTable =\n",
              "            await google.colab.kernel.invokeFunction('convertToInteractive',\n",
              "                                                     [key], {});\n",
              "          if (!dataTable) return;\n",
              "\n",
              "          const docLinkHtml = 'Like what you see? Visit the ' +\n",
              "            '<a target=\"_blank\" href=https://colab.research.google.com/notebooks/data_table.ipynb>data table notebook</a>'\n",
              "            + ' to learn more about interactive tables.';\n",
              "          element.innerHTML = '';\n",
              "          dataTable['output_type'] = 'display_data';\n",
              "          await google.colab.output.renderOutput(dataTable, element);\n",
              "          const docLink = document.createElement('div');\n",
              "          docLink.innerHTML = docLinkHtml;\n",
              "          element.appendChild(docLink);\n",
              "        }\n",
              "      </script>\n",
              "    </div>\n",
              "  </div>\n",
              "  "
            ],
            "text/plain": [
              "      MPG  Cylinders  Displacement  ...  Acceleration  Model Year  Origin\n",
              "393  27.0          4         140.0  ...          15.6          82       1\n",
              "394  44.0          4          97.0  ...          24.6          82       2\n",
              "395  32.0          4         135.0  ...          11.6          82       1\n",
              "396  28.0          4         120.0  ...          18.6          82       1\n",
              "397  31.0          4         119.0  ...          19.4          82       1\n",
              "\n",
              "[5 rows x 8 columns]"
            ]
          },
          "metadata": {},
          "execution_count": 3
        }
      ]
    },
    {
      "cell_type": "markdown",
      "source": [
        "##Clean the data\n",
        "If the dataset contains a unknown values, drop them :"
      ],
      "metadata": {
        "id": "DTXNlBQIdnmQ"
      }
    },
    {
      "cell_type": "code",
      "source": [
        "dataset.isna().sum()"
      ],
      "metadata": {
        "colab": {
          "base_uri": "https://localhost:8080/"
        },
        "id": "488gFFppdvRK",
        "outputId": "e52b8df2-f76e-4686-d69c-abfe9927c505"
      },
      "execution_count": null,
      "outputs": [
        {
          "output_type": "execute_result",
          "data": {
            "text/plain": [
              "MPG             0\n",
              "Cylinders       0\n",
              "Displacement    0\n",
              "Horsepower      6\n",
              "Weight          0\n",
              "Acceleration    0\n",
              "Model Year      0\n",
              "Origin          0\n",
              "dtype: int64"
            ]
          },
          "metadata": {},
          "execution_count": 4
        }
      ]
    },
    {
      "cell_type": "code",
      "source": [
        "dataset = dataset.dropna()"
      ],
      "metadata": {
        "id": "fM56_8lFdx9U"
      },
      "execution_count": null,
      "outputs": []
    },
    {
      "cell_type": "markdown",
      "source": [
        ""
      ],
      "metadata": {
        "id": "e4BbzkzKeddE"
      }
    },
    {
      "cell_type": "code",
      "source": [
        "dataset['Origin'] = dataset['Origin'].map({1: 'USA', 2: 'Europe', 3: 'Japan'})"
      ],
      "metadata": {
        "id": "1TWSSXMjeX6O",
        "colab": {
          "base_uri": "https://localhost:8080/"
        },
        "outputId": "44bf7ae2-ab9d-4c89-fa02-6a4fa8184d5e"
      },
      "execution_count": null,
      "outputs": [
        {
          "output_type": "stream",
          "name": "stderr",
          "text": [
            "/usr/local/lib/python3.7/dist-packages/ipykernel_launcher.py:1: SettingWithCopyWarning: \n",
            "A value is trying to be set on a copy of a slice from a DataFrame.\n",
            "Try using .loc[row_indexer,col_indexer] = value instead\n",
            "\n",
            "See the caveats in the documentation: https://pandas.pydata.org/pandas-docs/stable/user_guide/indexing.html#returning-a-view-versus-a-copy\n",
            "  \"\"\"Entry point for launching an IPython kernel.\n"
          ]
        }
      ]
    },
    {
      "cell_type": "code",
      "source": [
        "dataset = pd.get_dummies(dataset, columns=['Origin'], prefix='', prefix_sep='')\n",
        "dataset.tail()"
      ],
      "metadata": {
        "colab": {
          "base_uri": "https://localhost:8080/",
          "height": 206
        },
        "id": "BhOzXeyCeYVW",
        "outputId": "3027f1d1-26cb-4b4d-c77f-541515451aab"
      },
      "execution_count": null,
      "outputs": [
        {
          "output_type": "execute_result",
          "data": {
            "text/html": [
              "\n",
              "  <div id=\"df-8ac62ee3-8b7d-47ef-9e9b-cf225413f961\">\n",
              "    <div class=\"colab-df-container\">\n",
              "      <div>\n",
              "<style scoped>\n",
              "    .dataframe tbody tr th:only-of-type {\n",
              "        vertical-align: middle;\n",
              "    }\n",
              "\n",
              "    .dataframe tbody tr th {\n",
              "        vertical-align: top;\n",
              "    }\n",
              "\n",
              "    .dataframe thead th {\n",
              "        text-align: right;\n",
              "    }\n",
              "</style>\n",
              "<table border=\"1\" class=\"dataframe\">\n",
              "  <thead>\n",
              "    <tr style=\"text-align: right;\">\n",
              "      <th></th>\n",
              "      <th>MPG</th>\n",
              "      <th>Cylinders</th>\n",
              "      <th>Displacement</th>\n",
              "      <th>Horsepower</th>\n",
              "      <th>Weight</th>\n",
              "      <th>Acceleration</th>\n",
              "      <th>Model Year</th>\n",
              "      <th>Europe</th>\n",
              "      <th>Japan</th>\n",
              "      <th>USA</th>\n",
              "    </tr>\n",
              "  </thead>\n",
              "  <tbody>\n",
              "    <tr>\n",
              "      <th>393</th>\n",
              "      <td>27.0</td>\n",
              "      <td>4</td>\n",
              "      <td>140.0</td>\n",
              "      <td>86.0</td>\n",
              "      <td>2790.0</td>\n",
              "      <td>15.6</td>\n",
              "      <td>82</td>\n",
              "      <td>0</td>\n",
              "      <td>0</td>\n",
              "      <td>1</td>\n",
              "    </tr>\n",
              "    <tr>\n",
              "      <th>394</th>\n",
              "      <td>44.0</td>\n",
              "      <td>4</td>\n",
              "      <td>97.0</td>\n",
              "      <td>52.0</td>\n",
              "      <td>2130.0</td>\n",
              "      <td>24.6</td>\n",
              "      <td>82</td>\n",
              "      <td>1</td>\n",
              "      <td>0</td>\n",
              "      <td>0</td>\n",
              "    </tr>\n",
              "    <tr>\n",
              "      <th>395</th>\n",
              "      <td>32.0</td>\n",
              "      <td>4</td>\n",
              "      <td>135.0</td>\n",
              "      <td>84.0</td>\n",
              "      <td>2295.0</td>\n",
              "      <td>11.6</td>\n",
              "      <td>82</td>\n",
              "      <td>0</td>\n",
              "      <td>0</td>\n",
              "      <td>1</td>\n",
              "    </tr>\n",
              "    <tr>\n",
              "      <th>396</th>\n",
              "      <td>28.0</td>\n",
              "      <td>4</td>\n",
              "      <td>120.0</td>\n",
              "      <td>79.0</td>\n",
              "      <td>2625.0</td>\n",
              "      <td>18.6</td>\n",
              "      <td>82</td>\n",
              "      <td>0</td>\n",
              "      <td>0</td>\n",
              "      <td>1</td>\n",
              "    </tr>\n",
              "    <tr>\n",
              "      <th>397</th>\n",
              "      <td>31.0</td>\n",
              "      <td>4</td>\n",
              "      <td>119.0</td>\n",
              "      <td>82.0</td>\n",
              "      <td>2720.0</td>\n",
              "      <td>19.4</td>\n",
              "      <td>82</td>\n",
              "      <td>0</td>\n",
              "      <td>0</td>\n",
              "      <td>1</td>\n",
              "    </tr>\n",
              "  </tbody>\n",
              "</table>\n",
              "</div>\n",
              "      <button class=\"colab-df-convert\" onclick=\"convertToInteractive('df-8ac62ee3-8b7d-47ef-9e9b-cf225413f961')\"\n",
              "              title=\"Convert this dataframe to an interactive table.\"\n",
              "              style=\"display:none;\">\n",
              "        \n",
              "  <svg xmlns=\"http://www.w3.org/2000/svg\" height=\"24px\"viewBox=\"0 0 24 24\"\n",
              "       width=\"24px\">\n",
              "    <path d=\"M0 0h24v24H0V0z\" fill=\"none\"/>\n",
              "    <path d=\"M18.56 5.44l.94 2.06.94-2.06 2.06-.94-2.06-.94-.94-2.06-.94 2.06-2.06.94zm-11 1L8.5 8.5l.94-2.06 2.06-.94-2.06-.94L8.5 2.5l-.94 2.06-2.06.94zm10 10l.94 2.06.94-2.06 2.06-.94-2.06-.94-.94-2.06-.94 2.06-2.06.94z\"/><path d=\"M17.41 7.96l-1.37-1.37c-.4-.4-.92-.59-1.43-.59-.52 0-1.04.2-1.43.59L10.3 9.45l-7.72 7.72c-.78.78-.78 2.05 0 2.83L4 21.41c.39.39.9.59 1.41.59.51 0 1.02-.2 1.41-.59l7.78-7.78 2.81-2.81c.8-.78.8-2.07 0-2.86zM5.41 20L4 18.59l7.72-7.72 1.47 1.35L5.41 20z\"/>\n",
              "  </svg>\n",
              "      </button>\n",
              "      \n",
              "  <style>\n",
              "    .colab-df-container {\n",
              "      display:flex;\n",
              "      flex-wrap:wrap;\n",
              "      gap: 12px;\n",
              "    }\n",
              "\n",
              "    .colab-df-convert {\n",
              "      background-color: #E8F0FE;\n",
              "      border: none;\n",
              "      border-radius: 50%;\n",
              "      cursor: pointer;\n",
              "      display: none;\n",
              "      fill: #1967D2;\n",
              "      height: 32px;\n",
              "      padding: 0 0 0 0;\n",
              "      width: 32px;\n",
              "    }\n",
              "\n",
              "    .colab-df-convert:hover {\n",
              "      background-color: #E2EBFA;\n",
              "      box-shadow: 0px 1px 2px rgba(60, 64, 67, 0.3), 0px 1px 3px 1px rgba(60, 64, 67, 0.15);\n",
              "      fill: #174EA6;\n",
              "    }\n",
              "\n",
              "    [theme=dark] .colab-df-convert {\n",
              "      background-color: #3B4455;\n",
              "      fill: #D2E3FC;\n",
              "    }\n",
              "\n",
              "    [theme=dark] .colab-df-convert:hover {\n",
              "      background-color: #434B5C;\n",
              "      box-shadow: 0px 1px 3px 1px rgba(0, 0, 0, 0.15);\n",
              "      filter: drop-shadow(0px 1px 2px rgba(0, 0, 0, 0.3));\n",
              "      fill: #FFFFFF;\n",
              "    }\n",
              "  </style>\n",
              "\n",
              "      <script>\n",
              "        const buttonEl =\n",
              "          document.querySelector('#df-8ac62ee3-8b7d-47ef-9e9b-cf225413f961 button.colab-df-convert');\n",
              "        buttonEl.style.display =\n",
              "          google.colab.kernel.accessAllowed ? 'block' : 'none';\n",
              "\n",
              "        async function convertToInteractive(key) {\n",
              "          const element = document.querySelector('#df-8ac62ee3-8b7d-47ef-9e9b-cf225413f961');\n",
              "          const dataTable =\n",
              "            await google.colab.kernel.invokeFunction('convertToInteractive',\n",
              "                                                     [key], {});\n",
              "          if (!dataTable) return;\n",
              "\n",
              "          const docLinkHtml = 'Like what you see? Visit the ' +\n",
              "            '<a target=\"_blank\" href=https://colab.research.google.com/notebooks/data_table.ipynb>data table notebook</a>'\n",
              "            + ' to learn more about interactive tables.';\n",
              "          element.innerHTML = '';\n",
              "          dataTable['output_type'] = 'display_data';\n",
              "          await google.colab.output.renderOutput(dataTable, element);\n",
              "          const docLink = document.createElement('div');\n",
              "          docLink.innerHTML = docLinkHtml;\n",
              "          element.appendChild(docLink);\n",
              "        }\n",
              "      </script>\n",
              "    </div>\n",
              "  </div>\n",
              "  "
            ],
            "text/plain": [
              "      MPG  Cylinders  Displacement  Horsepower  ...  Model Year  Europe  Japan  USA\n",
              "393  27.0          4         140.0        86.0  ...          82       0      0    1\n",
              "394  44.0          4          97.0        52.0  ...          82       1      0    0\n",
              "395  32.0          4         135.0        84.0  ...          82       0      0    1\n",
              "396  28.0          4         120.0        79.0  ...          82       0      0    1\n",
              "397  31.0          4         119.0        82.0  ...          82       0      0    1\n",
              "\n",
              "[5 rows x 10 columns]"
            ]
          },
          "metadata": {},
          "execution_count": 7
        }
      ]
    },
    {
      "cell_type": "markdown",
      "source": [
        "#Split the data into training and test sets\n",
        "Now, split the dataset into a training set and a test set. You will use the test set in the final evaluation of your models."
      ],
      "metadata": {
        "id": "ksPXsOcgeim6"
      }
    },
    {
      "cell_type": "code",
      "source": [
        "train_dataset = dataset.sample(frac=0.8, random_state=0)\n",
        "test_dataset = dataset.drop(train_dataset.index)"
      ],
      "metadata": {
        "id": "UgVwwldAekbR"
      },
      "execution_count": null,
      "outputs": []
    },
    {
      "cell_type": "markdown",
      "source": [
        "#Split features from labels\n",
        "Separate the target value—the \"label\"—from the features. This label is the value that you will train the model to predict."
      ],
      "metadata": {
        "id": "6VWcshOqezVj"
      }
    },
    {
      "cell_type": "code",
      "source": [
        "train_features = train_dataset.copy()\n",
        "test_features = test_dataset.copy()\n",
        "\n",
        "train_labels = train_features.pop('MPG')\n",
        "test_labels = test_features.pop('MPG')"
      ],
      "metadata": {
        "id": "WsaZJ6dlep4Q"
      },
      "execution_count": null,
      "outputs": []
    },
    {
      "cell_type": "markdown",
      "source": [
        "#**Linear regression with one variable**\n",
        "Begin with a single-variable linear regression to predict **'MPG'** from **'Horsepower'**."
      ],
      "metadata": {
        "id": "rm6qX7_wfq46"
      }
    },
    {
      "cell_type": "markdown",
      "source": [
        "* Apply a linear transformation () to produce 1 output using a linear layer (tf.keras.layers.Dense).\n"
      ],
      "metadata": {
        "id": "FYv4Ha-Vf1CO"
      }
    },
    {
      "cell_type": "code",
      "source": [
        "#Model \n",
        "horsepower_model = tf.keras.Sequential([\n",
        "    layers.Dense(1)\n",
        "    \n",
        "])\n"
      ],
      "metadata": {
        "id": "OlZJV4bXf-97"
      },
      "execution_count": null,
      "outputs": []
    },
    {
      "cell_type": "markdown",
      "source": [
        "This model will predict 'MPG' from 'Horsepower'.\n"
      ],
      "metadata": {
        "id": "xYzlbSDjgKuB"
      }
    },
    {
      "cell_type": "code",
      "source": [
        "horsepower_model.compile(\n",
        "    optimizer=tf.optimizers.Adam(learning_rate=0.1),\n",
        "    loss='mean_absolute_error')"
      ],
      "metadata": {
        "id": "cQjjHpQkgTOo"
      },
      "execution_count": null,
      "outputs": []
    },
    {
      "cell_type": "code",
      "source": [
        "%%time\n",
        "history = horsepower_model.fit(train_features['Horsepower'],train_labels,epochs=100,\n",
        "    # Calculate validation results on 20% of the training data.\n",
        "    validation_split = 0.2)"
      ],
      "metadata": {
        "id": "gJygWkLngVAy",
        "colab": {
          "base_uri": "https://localhost:8080/"
        },
        "outputId": "ae592409-6e00-49c0-95ab-c5df5a58531b"
      },
      "execution_count": null,
      "outputs": [
        {
          "output_type": "stream",
          "name": "stdout",
          "text": [
            "Epoch 1/100\n",
            "8/8 [==============================] - 1s 38ms/step - loss: 34.5105 - val_loss: 15.8697\n",
            "Epoch 2/100\n",
            "8/8 [==============================] - 0s 16ms/step - loss: 19.1652 - val_loss: 13.0934\n",
            "Epoch 3/100\n",
            "8/8 [==============================] - 0s 10ms/step - loss: 13.5085 - val_loss: 14.7701\n",
            "Epoch 4/100\n",
            "8/8 [==============================] - 0s 8ms/step - loss: 12.6288 - val_loss: 13.6991\n",
            "Epoch 5/100\n",
            "8/8 [==============================] - 0s 9ms/step - loss: 12.5208 - val_loss: 12.7455\n",
            "Epoch 6/100\n",
            "8/8 [==============================] - 0s 10ms/step - loss: 11.8021 - val_loss: 12.5669\n",
            "Epoch 7/100\n",
            "8/8 [==============================] - 0s 15ms/step - loss: 11.6798 - val_loss: 12.4609\n",
            "Epoch 8/100\n",
            "8/8 [==============================] - 0s 8ms/step - loss: 11.6839 - val_loss: 12.3322\n",
            "Epoch 9/100\n",
            "8/8 [==============================] - 0s 7ms/step - loss: 11.6050 - val_loss: 12.2134\n",
            "Epoch 10/100\n",
            "8/8 [==============================] - 0s 10ms/step - loss: 11.6923 - val_loss: 12.2575\n",
            "Epoch 11/100\n",
            "8/8 [==============================] - 0s 9ms/step - loss: 11.6117 - val_loss: 12.0497\n",
            "Epoch 12/100\n",
            "8/8 [==============================] - 0s 11ms/step - loss: 11.1603 - val_loss: 12.1016\n",
            "Epoch 13/100\n",
            "8/8 [==============================] - 0s 8ms/step - loss: 10.8887 - val_loss: 11.7635\n",
            "Epoch 14/100\n",
            "8/8 [==============================] - 0s 8ms/step - loss: 10.8548 - val_loss: 12.0744\n",
            "Epoch 15/100\n",
            "8/8 [==============================] - 0s 12ms/step - loss: 11.2902 - val_loss: 11.8589\n",
            "Epoch 16/100\n",
            "8/8 [==============================] - 0s 8ms/step - loss: 10.7958 - val_loss: 11.6368\n",
            "Epoch 17/100\n",
            "8/8 [==============================] - 0s 9ms/step - loss: 10.5194 - val_loss: 11.2243\n",
            "Epoch 18/100\n",
            "8/8 [==============================] - 0s 9ms/step - loss: 10.4726 - val_loss: 11.0171\n",
            "Epoch 19/100\n",
            "8/8 [==============================] - 0s 8ms/step - loss: 10.2804 - val_loss: 10.9383\n",
            "Epoch 20/100\n",
            "8/8 [==============================] - 0s 8ms/step - loss: 10.1063 - val_loss: 10.7831\n",
            "Epoch 21/100\n",
            "8/8 [==============================] - 0s 9ms/step - loss: 10.0367 - val_loss: 10.5902\n",
            "Epoch 22/100\n",
            "8/8 [==============================] - 0s 8ms/step - loss: 10.1591 - val_loss: 10.4621\n",
            "Epoch 23/100\n",
            "8/8 [==============================] - 0s 8ms/step - loss: 9.6739 - val_loss: 10.3050\n",
            "Epoch 24/100\n",
            "8/8 [==============================] - 0s 8ms/step - loss: 9.5786 - val_loss: 10.1632\n",
            "Epoch 25/100\n",
            "8/8 [==============================] - 0s 8ms/step - loss: 9.6625 - val_loss: 10.3909\n",
            "Epoch 26/100\n",
            "8/8 [==============================] - 0s 10ms/step - loss: 9.6172 - val_loss: 9.9478\n",
            "Epoch 27/100\n",
            "8/8 [==============================] - 0s 9ms/step - loss: 9.3034 - val_loss: 9.7986\n",
            "Epoch 28/100\n",
            "8/8 [==============================] - 0s 11ms/step - loss: 9.1505 - val_loss: 9.5821\n",
            "Epoch 29/100\n",
            "8/8 [==============================] - 0s 7ms/step - loss: 9.5256 - val_loss: 10.7206\n",
            "Epoch 30/100\n",
            "8/8 [==============================] - 0s 7ms/step - loss: 9.0468 - val_loss: 9.3566\n",
            "Epoch 31/100\n",
            "8/8 [==============================] - 0s 11ms/step - loss: 8.6500 - val_loss: 9.1506\n",
            "Epoch 32/100\n",
            "8/8 [==============================] - 0s 9ms/step - loss: 8.4841 - val_loss: 9.0067\n",
            "Epoch 33/100\n",
            "8/8 [==============================] - 0s 8ms/step - loss: 8.3617 - val_loss: 8.9824\n",
            "Epoch 34/100\n",
            "8/8 [==============================] - 0s 16ms/step - loss: 8.1664 - val_loss: 9.3844\n",
            "Epoch 35/100\n",
            "8/8 [==============================] - 0s 6ms/step - loss: 8.3276 - val_loss: 8.6902\n",
            "Epoch 36/100\n",
            "8/8 [==============================] - 0s 5ms/step - loss: 8.0934 - val_loss: 8.4542\n",
            "Epoch 37/100\n",
            "8/8 [==============================] - 0s 6ms/step - loss: 7.8191 - val_loss: 8.2912\n",
            "Epoch 38/100\n",
            "8/8 [==============================] - 0s 5ms/step - loss: 7.7639 - val_loss: 8.2743\n",
            "Epoch 39/100\n",
            "8/8 [==============================] - 0s 5ms/step - loss: 7.8796 - val_loss: 8.0765\n",
            "Epoch 40/100\n",
            "8/8 [==============================] - 0s 5ms/step - loss: 7.5896 - val_loss: 8.0237\n",
            "Epoch 41/100\n",
            "8/8 [==============================] - 0s 6ms/step - loss: 7.4341 - val_loss: 7.7754\n",
            "Epoch 42/100\n",
            "8/8 [==============================] - 0s 5ms/step - loss: 7.6334 - val_loss: 8.7269\n",
            "Epoch 43/100\n",
            "8/8 [==============================] - 0s 5ms/step - loss: 7.9383 - val_loss: 7.7416\n",
            "Epoch 44/100\n",
            "8/8 [==============================] - 0s 5ms/step - loss: 8.0022 - val_loss: 8.9230\n",
            "Epoch 45/100\n",
            "8/8 [==============================] - 0s 5ms/step - loss: 7.4013 - val_loss: 7.2122\n",
            "Epoch 46/100\n",
            "8/8 [==============================] - 0s 6ms/step - loss: 7.1501 - val_loss: 7.1462\n",
            "Epoch 47/100\n",
            "8/8 [==============================] - 0s 5ms/step - loss: 6.7159 - val_loss: 6.9841\n",
            "Epoch 48/100\n",
            "8/8 [==============================] - 0s 6ms/step - loss: 6.7410 - val_loss: 6.8363\n",
            "Epoch 49/100\n",
            "8/8 [==============================] - 0s 5ms/step - loss: 7.1064 - val_loss: 6.7216\n",
            "Epoch 50/100\n",
            "8/8 [==============================] - 0s 5ms/step - loss: 6.5100 - val_loss: 7.4627\n",
            "Epoch 51/100\n",
            "8/8 [==============================] - 0s 5ms/step - loss: 6.5584 - val_loss: 6.8808\n",
            "Epoch 52/100\n",
            "8/8 [==============================] - 0s 6ms/step - loss: 6.3361 - val_loss: 6.3575\n",
            "Epoch 53/100\n",
            "8/8 [==============================] - 0s 5ms/step - loss: 5.8813 - val_loss: 6.2548\n",
            "Epoch 54/100\n",
            "8/8 [==============================] - 0s 6ms/step - loss: 5.7949 - val_loss: 6.1300\n",
            "Epoch 55/100\n",
            "8/8 [==============================] - 0s 5ms/step - loss: 5.7554 - val_loss: 6.1211\n",
            "Epoch 56/100\n",
            "8/8 [==============================] - 0s 5ms/step - loss: 5.5688 - val_loss: 5.8875\n",
            "Epoch 57/100\n",
            "8/8 [==============================] - 0s 7ms/step - loss: 5.4838 - val_loss: 5.8042\n",
            "Epoch 58/100\n",
            "8/8 [==============================] - 0s 5ms/step - loss: 5.4449 - val_loss: 5.8154\n",
            "Epoch 59/100\n",
            "8/8 [==============================] - 0s 6ms/step - loss: 5.2752 - val_loss: 5.5840\n",
            "Epoch 60/100\n",
            "8/8 [==============================] - 0s 5ms/step - loss: 5.3553 - val_loss: 5.8202\n",
            "Epoch 61/100\n",
            "8/8 [==============================] - 0s 5ms/step - loss: 5.4689 - val_loss: 5.6180\n",
            "Epoch 62/100\n",
            "8/8 [==============================] - 0s 5ms/step - loss: 5.6073 - val_loss: 5.5475\n",
            "Epoch 63/100\n",
            "8/8 [==============================] - 0s 5ms/step - loss: 5.4910 - val_loss: 5.2555\n",
            "Epoch 64/100\n",
            "8/8 [==============================] - 0s 5ms/step - loss: 5.6386 - val_loss: 5.2682\n",
            "Epoch 65/100\n",
            "8/8 [==============================] - 0s 5ms/step - loss: 5.0237 - val_loss: 5.2130\n",
            "Epoch 66/100\n",
            "8/8 [==============================] - 0s 5ms/step - loss: 5.0395 - val_loss: 5.0318\n",
            "Epoch 67/100\n",
            "8/8 [==============================] - 0s 6ms/step - loss: 5.2465 - val_loss: 4.9787\n",
            "Epoch 68/100\n",
            "8/8 [==============================] - 0s 5ms/step - loss: 5.0936 - val_loss: 5.4601\n",
            "Epoch 69/100\n",
            "8/8 [==============================] - 0s 6ms/step - loss: 5.0114 - val_loss: 4.8792\n",
            "Epoch 70/100\n",
            "8/8 [==============================] - 0s 5ms/step - loss: 4.6812 - val_loss: 4.8078\n",
            "Epoch 71/100\n",
            "8/8 [==============================] - 0s 6ms/step - loss: 4.5891 - val_loss: 4.9211\n",
            "Epoch 72/100\n",
            "8/8 [==============================] - 0s 5ms/step - loss: 4.9879 - val_loss: 4.7711\n",
            "Epoch 73/100\n",
            "8/8 [==============================] - 0s 6ms/step - loss: 4.5885 - val_loss: 4.7022\n",
            "Epoch 74/100\n",
            "8/8 [==============================] - 0s 6ms/step - loss: 4.7440 - val_loss: 5.0581\n",
            "Epoch 75/100\n",
            "8/8 [==============================] - 0s 5ms/step - loss: 4.5951 - val_loss: 4.6600\n",
            "Epoch 76/100\n",
            "8/8 [==============================] - 0s 5ms/step - loss: 4.5049 - val_loss: 4.8425\n",
            "Epoch 77/100\n",
            "8/8 [==============================] - 0s 6ms/step - loss: 4.5099 - val_loss: 4.9066\n",
            "Epoch 78/100\n",
            "8/8 [==============================] - 0s 7ms/step - loss: 4.9881 - val_loss: 5.6910\n",
            "Epoch 79/100\n",
            "8/8 [==============================] - 0s 5ms/step - loss: 5.8029 - val_loss: 5.8640\n",
            "Epoch 80/100\n",
            "8/8 [==============================] - 0s 6ms/step - loss: 5.7333 - val_loss: 5.5310\n",
            "Epoch 81/100\n",
            "8/8 [==============================] - 0s 6ms/step - loss: 5.5857 - val_loss: 4.4747\n",
            "Epoch 82/100\n",
            "8/8 [==============================] - 0s 5ms/step - loss: 4.8030 - val_loss: 4.5252\n",
            "Epoch 83/100\n",
            "8/8 [==============================] - 0s 6ms/step - loss: 4.4389 - val_loss: 4.3481\n",
            "Epoch 84/100\n",
            "8/8 [==============================] - 0s 6ms/step - loss: 4.2706 - val_loss: 4.3296\n",
            "Epoch 85/100\n",
            "8/8 [==============================] - 0s 5ms/step - loss: 4.4942 - val_loss: 4.3794\n",
            "Epoch 86/100\n",
            "8/8 [==============================] - 0s 7ms/step - loss: 4.4527 - val_loss: 4.9550\n",
            "Epoch 87/100\n",
            "8/8 [==============================] - 0s 5ms/step - loss: 4.5316 - val_loss: 4.3322\n",
            "Epoch 88/100\n",
            "8/8 [==============================] - 0s 5ms/step - loss: 4.1442 - val_loss: 4.2756\n",
            "Epoch 89/100\n",
            "8/8 [==============================] - 0s 5ms/step - loss: 4.0970 - val_loss: 4.6978\n",
            "Epoch 90/100\n",
            "8/8 [==============================] - 0s 5ms/step - loss: 4.5092 - val_loss: 4.9632\n",
            "Epoch 91/100\n",
            "8/8 [==============================] - 0s 5ms/step - loss: 4.5140 - val_loss: 4.8724\n",
            "Epoch 92/100\n",
            "8/8 [==============================] - 0s 5ms/step - loss: 4.2066 - val_loss: 4.2505\n",
            "Epoch 93/100\n",
            "8/8 [==============================] - 0s 5ms/step - loss: 4.2355 - val_loss: 5.5623\n",
            "Epoch 94/100\n",
            "8/8 [==============================] - 0s 5ms/step - loss: 4.2556 - val_loss: 4.3628\n",
            "Epoch 95/100\n",
            "8/8 [==============================] - 0s 5ms/step - loss: 4.1201 - val_loss: 4.1937\n",
            "Epoch 96/100\n",
            "8/8 [==============================] - 0s 5ms/step - loss: 4.1348 - val_loss: 4.1634\n",
            "Epoch 97/100\n",
            "8/8 [==============================] - 0s 5ms/step - loss: 4.0349 - val_loss: 4.1853\n",
            "Epoch 98/100\n",
            "8/8 [==============================] - 0s 5ms/step - loss: 3.9779 - val_loss: 5.0119\n",
            "Epoch 99/100\n",
            "8/8 [==============================] - 0s 5ms/step - loss: 4.0531 - val_loss: 4.1407\n",
            "Epoch 100/100\n",
            "8/8 [==============================] - 0s 5ms/step - loss: 4.0946 - val_loss: 4.1135\n",
            "CPU times: user 5.57 s, sys: 359 ms, total: 5.93 s\n",
            "Wall time: 6.7 s\n"
          ]
        }
      ]
    },
    {
      "cell_type": "code",
      "source": [
        "def plot_loss(history):\n",
        "  plt.plot(history.history['loss'], label='loss')\n",
        "  plt.plot(history.history['val_loss'], label='val_loss')\n",
        "  plt.ylim([0, 10])\n",
        "  plt.xlabel('Epoch')\n",
        "  plt.ylabel('Error [MPG]')\n",
        "  plt.legend()\n",
        "  plt.grid(True)"
      ],
      "metadata": {
        "id": "ldv7rqEogaao"
      },
      "execution_count": null,
      "outputs": []
    },
    {
      "cell_type": "code",
      "source": [
        "plot_loss(history)"
      ],
      "metadata": {
        "id": "oo6GZ3G8gcO1",
        "colab": {
          "base_uri": "https://localhost:8080/",
          "height": 283
        },
        "outputId": "ea0ea193-6d68-4d23-e0a1-45367563eb7b"
      },
      "execution_count": null,
      "outputs": [
        {
          "output_type": "display_data",
          "data": {
            "image/png": "[encoded data removed]",
            "text/plain": [
              "<Figure size 432x288 with 1 Axes>"
            ]
          },
          "metadata": {
            "needs_background": "light"
          }
        }
      ]
    },
    {
      "cell_type": "markdown",
      "source": [
        "Collect the results on the test set for later:"
      ],
      "metadata": {
        "id": "CnamlgjgtOhi"
      }
    },
    {
      "cell_type": "code",
      "source": [
        "test_results = {}\n",
        "\n",
        "test_results['horsepower_model'] = horsepower_model.evaluate(\n",
        "    test_features['Horsepower'],\n",
        "    test_labels)\n"
      ],
      "metadata": {
        "colab": {
          "base_uri": "https://localhost:8080/"
        },
        "id": "ujfPWTYTtM79",
        "outputId": "cc1240f5-2424-4380-90a3-d7d460ea08bf"
      },
      "execution_count": null,
      "outputs": [
        {
          "output_type": "stream",
          "name": "stdout",
          "text": [
            "3/3 [==============================] - 0s 4ms/step - loss: 4.0281\n"
          ]
        }
      ]
    },
    {
      "cell_type": "markdown",
      "source": [
        "Since all models have been trained, you can review their test set performance:"
      ],
      "metadata": {
        "id": "G4KwcUB_4tVD"
      }
    },
    {
      "cell_type": "code",
      "source": [
        "pd.DataFrame(test_results, index=['Mean absolute error [MPG]']).T"
      ],
      "metadata": {
        "colab": {
          "base_uri": "https://localhost:8080/",
          "height": 81
        },
        "id": "at3ENWAZ4l5_",
        "outputId": "1fc4f5b3-6a62-4d17-b13d-21e37faaeb23"
      },
      "execution_count": null,
      "outputs": [
        {
          "output_type": "execute_result",
          "data": {
            "text/html": [
              "\n",
              "  <div id=\"df-d44a1fa7-3091-4f9d-bcbf-42f882c0095e\">\n",
              "    <div class=\"colab-df-container\">\n",
              "      <div>\n",
              "<style scoped>\n",
              "    .dataframe tbody tr th:only-of-type {\n",
              "        vertical-align: middle;\n",
              "    }\n",
              "\n",
              "    .dataframe tbody tr th {\n",
              "        vertical-align: top;\n",
              "    }\n",
              "\n",
              "    .dataframe thead th {\n",
              "        text-align: right;\n",
              "    }\n",
              "</style>\n",
              "<table border=\"1\" class=\"dataframe\">\n",
              "  <thead>\n",
              "    <tr style=\"text-align: right;\">\n",
              "      <th></th>\n",
              "      <th>Mean absolute error [MPG]</th>\n",
              "    </tr>\n",
              "  </thead>\n",
              "  <tbody>\n",
              "    <tr>\n",
              "      <th>horsepower_model</th>\n",
              "      <td>4.028093</td>\n",
              "    </tr>\n",
              "  </tbody>\n",
              "</table>\n",
              "</div>\n",
              "      <button class=\"colab-df-convert\" onclick=\"convertToInteractive('df-d44a1fa7-3091-4f9d-bcbf-42f882c0095e')\"\n",
              "              title=\"Convert this dataframe to an interactive table.\"\n",
              "              style=\"display:none;\">\n",
              "        \n",
              "  <svg xmlns=\"http://www.w3.org/2000/svg\" height=\"24px\"viewBox=\"0 0 24 24\"\n",
              "       width=\"24px\">\n",
              "    <path d=\"M0 0h24v24H0V0z\" fill=\"none\"/>\n",
              "    <path d=\"M18.56 5.44l.94 2.06.94-2.06 2.06-.94-2.06-.94-.94-2.06-.94 2.06-2.06.94zm-11 1L8.5 8.5l.94-2.06 2.06-.94-2.06-.94L8.5 2.5l-.94 2.06-2.06.94zm10 10l.94 2.06.94-2.06 2.06-.94-2.06-.94-.94-2.06-.94 2.06-2.06.94z\"/><path d=\"M17.41 7.96l-1.37-1.37c-.4-.4-.92-.59-1.43-.59-.52 0-1.04.2-1.43.59L10.3 9.45l-7.72 7.72c-.78.78-.78 2.05 0 2.83L4 21.41c.39.39.9.59 1.41.59.51 0 1.02-.2 1.41-.59l7.78-7.78 2.81-2.81c.8-.78.8-2.07 0-2.86zM5.41 20L4 18.59l7.72-7.72 1.47 1.35L5.41 20z\"/>\n",
              "  </svg>\n",
              "      </button>\n",
              "      \n",
              "  <style>\n",
              "    .colab-df-container {\n",
              "      display:flex;\n",
              "      flex-wrap:wrap;\n",
              "      gap: 12px;\n",
              "    }\n",
              "\n",
              "    .colab-df-convert {\n",
              "      background-color: #E8F0FE;\n",
              "      border: none;\n",
              "      border-radius: 50%;\n",
              "      cursor: pointer;\n",
              "      display: none;\n",
              "      fill: #1967D2;\n",
              "      height: 32px;\n",
              "      padding: 0 0 0 0;\n",
              "      width: 32px;\n",
              "    }\n",
              "\n",
              "    .colab-df-convert:hover {\n",
              "      background-color: #E2EBFA;\n",
              "      box-shadow: 0px 1px 2px rgba(60, 64, 67, 0.3), 0px 1px 3px 1px rgba(60, 64, 67, 0.15);\n",
              "      fill: #174EA6;\n",
              "    }\n",
              "\n",
              "    [theme=dark] .colab-df-convert {\n",
              "      background-color: #3B4455;\n",
              "      fill: #D2E3FC;\n",
              "    }\n",
              "\n",
              "    [theme=dark] .colab-df-convert:hover {\n",
              "      background-color: #434B5C;\n",
              "      box-shadow: 0px 1px 3px 1px rgba(0, 0, 0, 0.15);\n",
              "      filter: drop-shadow(0px 1px 2px rgba(0, 0, 0, 0.3));\n",
              "      fill: #FFFFFF;\n",
              "    }\n",
              "  </style>\n",
              "\n",
              "      <script>\n",
              "        const buttonEl =\n",
              "          document.querySelector('#df-d44a1fa7-3091-4f9d-bcbf-42f882c0095e button.colab-df-convert');\n",
              "        buttonEl.style.display =\n",
              "          google.colab.kernel.accessAllowed ? 'block' : 'none';\n",
              "\n",
              "        async function convertToInteractive(key) {\n",
              "          const element = document.querySelector('#df-d44a1fa7-3091-4f9d-bcbf-42f882c0095e');\n",
              "          const dataTable =\n",
              "            await google.colab.kernel.invokeFunction('convertToInteractive',\n",
              "                                                     [key], {});\n",
              "          if (!dataTable) return;\n",
              "\n",
              "          const docLinkHtml = 'Like what you see? Visit the ' +\n",
              "            '<a target=\"_blank\" href=https://colab.research.google.com/notebooks/data_table.ipynb>data table notebook</a>'\n",
              "            + ' to learn more about interactive tables.';\n",
              "          element.innerHTML = '';\n",
              "          dataTable['output_type'] = 'display_data';\n",
              "          await google.colab.output.renderOutput(dataTable, element);\n",
              "          const docLink = document.createElement('div');\n",
              "          docLink.innerHTML = docLinkHtml;\n",
              "          element.appendChild(docLink);\n",
              "        }\n",
              "      </script>\n",
              "    </div>\n",
              "  </div>\n",
              "  "
            ],
            "text/plain": [
              "                  Mean absolute error [MPG]\n",
              "horsepower_model                   4.028093"
            ]
          },
          "metadata": {},
          "execution_count": 21
        }
      ]
    },
    {
      "cell_type": "markdown",
      "source": [
        "#**Linear regression with multiple inputs**\n",
        "You can use an almost identical setup to make predictions based on multiple inputs. This model still does the same  except that  is a matrix and  is a vector.\n",
        "\n"
      ],
      "metadata": {
        "id": "K2RfZZ4ZuF4J"
      }
    },
    {
      "cell_type": "code",
      "source": [
        "linear_model = tf.keras.Sequential([\n",
        "    layers.Dense(64, activation='relu'),\n",
        "    layers.Dense(64, activation='relu'),\n",
        "    layers.Dense(1)\n",
        "])"
      ],
      "metadata": {
        "id": "XFzZMzAIuILH"
      },
      "execution_count": null,
      "outputs": []
    },
    {
      "cell_type": "markdown",
      "source": [
        "Configure the model with Keras Model.compile and train with Model.fit for 100 epochs:"
      ],
      "metadata": {
        "id": "yTLGMDRBuWF5"
      }
    },
    {
      "cell_type": "code",
      "source": [
        "linear_model.compile(\n",
        "    optimizer=tf.optimizers.Adam(learning_rate=0.1),\n",
        "    loss='mean_absolute_error',)"
      ],
      "metadata": {
        "id": "i97ZtEA9uU8x"
      },
      "execution_count": null,
      "outputs": []
    },
    {
      "cell_type": "code",
      "source": [
        "%%time\n",
        "history = linear_model.fit(train_features,train_labels,epochs=100,\n",
        "    # Calculate validation results on 20% of the training data.\n",
        "    validation_split = 0.2)"
      ],
      "metadata": {
        "colab": {
          "base_uri": "https://localhost:8080/"
        },
        "id": "B_sPNWniuZES",
        "outputId": "a169ac53-b555-4e74-a0f1-258aa286ace7"
      },
      "execution_count": null,
      "outputs": [
        {
          "output_type": "stream",
          "name": "stdout",
          "text": [
            "Epoch 1/100\n",
            "8/8 [==============================] - 1s 24ms/step - loss: 1787.3481 - val_loss: 23.0316\n",
            "Epoch 2/100\n",
            "8/8 [==============================] - 0s 6ms/step - loss: 22.1934 - val_loss: 21.7411\n",
            "Epoch 3/100\n",
            "8/8 [==============================] - 0s 5ms/step - loss: 20.2637 - val_loss: 19.4408\n",
            "Epoch 4/100\n",
            "8/8 [==============================] - 0s 6ms/step - loss: 17.7842 - val_loss: 16.7549\n",
            "Epoch 5/100\n",
            "8/8 [==============================] - 0s 5ms/step - loss: 14.9607 - val_loss: 13.7300\n",
            "Epoch 6/100\n",
            "8/8 [==============================] - 0s 6ms/step - loss: 11.7677 - val_loss: 10.3959\n",
            "Epoch 7/100\n",
            "8/8 [==============================] - 0s 6ms/step - loss: 8.5880 - val_loss: 7.7639\n",
            "Epoch 8/100\n",
            "8/8 [==============================] - 0s 6ms/step - loss: 6.7084 - val_loss: 6.7491\n",
            "Epoch 9/100\n",
            "8/8 [==============================] - 0s 6ms/step - loss: 6.3900 - val_loss: 6.5243\n",
            "Epoch 10/100\n",
            "8/8 [==============================] - 0s 6ms/step - loss: 6.4614 - val_loss: 6.5360\n",
            "Epoch 11/100\n",
            "8/8 [==============================] - 0s 6ms/step - loss: 6.4033 - val_loss: 6.5642\n",
            "Epoch 12/100\n",
            "8/8 [==============================] - 0s 6ms/step - loss: 6.3433 - val_loss: 6.6811\n",
            "Epoch 13/100\n",
            "8/8 [==============================] - 0s 6ms/step - loss: 6.3279 - val_loss: 6.7804\n",
            "Epoch 14/100\n",
            "8/8 [==============================] - 0s 6ms/step - loss: 6.3501 - val_loss: 6.7836\n",
            "Epoch 15/100\n",
            "8/8 [==============================] - 0s 7ms/step - loss: 6.3494 - val_loss: 6.7366\n",
            "Epoch 16/100\n",
            "8/8 [==============================] - 0s 6ms/step - loss: 6.3421 - val_loss: 6.6895\n",
            "Epoch 17/100\n",
            "8/8 [==============================] - 0s 6ms/step - loss: 6.3348 - val_loss: 6.7215\n",
            "Epoch 18/100\n",
            "8/8 [==============================] - 0s 5ms/step - loss: 6.3379 - val_loss: 6.7145\n",
            "Epoch 19/100\n",
            "8/8 [==============================] - 0s 5ms/step - loss: 6.3348 - val_loss: 6.7021\n",
            "Epoch 20/100\n",
            "8/8 [==============================] - 0s 6ms/step - loss: 6.3383 - val_loss: 6.6908\n",
            "Epoch 21/100\n",
            "8/8 [==============================] - 0s 6ms/step - loss: 6.3373 - val_loss: 6.6960\n",
            "Epoch 22/100\n",
            "8/8 [==============================] - 0s 6ms/step - loss: 6.3391 - val_loss: 6.7303\n",
            "Epoch 23/100\n",
            "8/8 [==============================] - 0s 6ms/step - loss: 6.3367 - val_loss: 6.7010\n",
            "Epoch 24/100\n",
            "8/8 [==============================] - 0s 6ms/step - loss: 6.3486 - val_loss: 6.6844\n",
            "Epoch 25/100\n",
            "8/8 [==============================] - 0s 6ms/step - loss: 6.3438 - val_loss: 6.7252\n",
            "Epoch 26/100\n",
            "8/8 [==============================] - 0s 6ms/step - loss: 6.3394 - val_loss: 6.7368\n",
            "Epoch 27/100\n",
            "8/8 [==============================] - 0s 6ms/step - loss: 6.3369 - val_loss: 6.7010\n",
            "Epoch 28/100\n",
            "8/8 [==============================] - 0s 7ms/step - loss: 6.3395 - val_loss: 6.6856\n",
            "Epoch 29/100\n",
            "8/8 [==============================] - 0s 6ms/step - loss: 6.3354 - val_loss: 6.7246\n",
            "Epoch 30/100\n",
            "8/8 [==============================] - 0s 6ms/step - loss: 6.3390 - val_loss: 6.7216\n",
            "Epoch 31/100\n",
            "8/8 [==============================] - 0s 7ms/step - loss: 6.3364 - val_loss: 6.6907\n",
            "Epoch 32/100\n",
            "8/8 [==============================] - 0s 5ms/step - loss: 6.3458 - val_loss: 6.7086\n",
            "Epoch 33/100\n",
            "8/8 [==============================] - 0s 6ms/step - loss: 6.3446 - val_loss: 6.7168\n",
            "Epoch 34/100\n",
            "8/8 [==============================] - 0s 5ms/step - loss: 6.3340 - val_loss: 6.6999\n",
            "Epoch 35/100\n",
            "8/8 [==============================] - 0s 8ms/step - loss: 6.3368 - val_loss: 6.7220\n",
            "Epoch 36/100\n",
            "8/8 [==============================] - 0s 6ms/step - loss: 6.3705 - val_loss: 6.6772\n",
            "Epoch 37/100\n",
            "8/8 [==============================] - 0s 5ms/step - loss: 6.3477 - val_loss: 6.7546\n",
            "Epoch 38/100\n",
            "8/8 [==============================] - 0s 5ms/step - loss: 6.3447 - val_loss: 6.7373\n",
            "Epoch 39/100\n",
            "8/8 [==============================] - 0s 5ms/step - loss: 6.3484 - val_loss: 6.7202\n",
            "Epoch 40/100\n",
            "8/8 [==============================] - 0s 6ms/step - loss: 6.3398 - val_loss: 6.7120\n",
            "Epoch 41/100\n",
            "8/8 [==============================] - 0s 5ms/step - loss: 6.3353 - val_loss: 6.7143\n",
            "Epoch 42/100\n",
            "8/8 [==============================] - 0s 6ms/step - loss: 6.3393 - val_loss: 6.7025\n",
            "Epoch 43/100\n",
            "8/8 [==============================] - 0s 6ms/step - loss: 6.3330 - val_loss: 6.7189\n",
            "Epoch 44/100\n",
            "8/8 [==============================] - 0s 5ms/step - loss: 6.3484 - val_loss: 6.7487\n",
            "Epoch 45/100\n",
            "8/8 [==============================] - 0s 5ms/step - loss: 6.3393 - val_loss: 6.6971\n",
            "Epoch 46/100\n",
            "8/8 [==============================] - 0s 6ms/step - loss: 6.3458 - val_loss: 6.6790\n",
            "Epoch 47/100\n",
            "8/8 [==============================] - 0s 6ms/step - loss: 6.3667 - val_loss: 6.7034\n",
            "Epoch 48/100\n",
            "8/8 [==============================] - 0s 5ms/step - loss: 6.3480 - val_loss: 6.7773\n",
            "Epoch 49/100\n",
            "8/8 [==============================] - 0s 6ms/step - loss: 6.3494 - val_loss: 6.7476\n",
            "Epoch 50/100\n",
            "8/8 [==============================] - 0s 5ms/step - loss: 6.3308 - val_loss: 6.6795\n",
            "Epoch 51/100\n",
            "8/8 [==============================] - 0s 8ms/step - loss: 6.3515 - val_loss: 6.6546\n",
            "Epoch 52/100\n",
            "8/8 [==============================] - 0s 8ms/step - loss: 6.3348 - val_loss: 6.7206\n",
            "Epoch 53/100\n",
            "8/8 [==============================] - 0s 5ms/step - loss: 6.3853 - val_loss: 6.8342\n",
            "Epoch 54/100\n",
            "8/8 [==============================] - 0s 6ms/step - loss: 6.3691 - val_loss: 6.7270\n",
            "Epoch 55/100\n",
            "8/8 [==============================] - 0s 7ms/step - loss: 6.3389 - val_loss: 6.7004\n",
            "Epoch 56/100\n",
            "8/8 [==============================] - 0s 5ms/step - loss: 6.3444 - val_loss: 6.7191\n",
            "Epoch 57/100\n",
            "8/8 [==============================] - 0s 5ms/step - loss: 6.3319 - val_loss: 6.6989\n",
            "Epoch 58/100\n",
            "8/8 [==============================] - 0s 5ms/step - loss: 6.3486 - val_loss: 6.6785\n",
            "Epoch 59/100\n",
            "8/8 [==============================] - 0s 5ms/step - loss: 6.3379 - val_loss: 6.7499\n",
            "Epoch 60/100\n",
            "8/8 [==============================] - 0s 6ms/step - loss: 6.3489 - val_loss: 6.7368\n",
            "Epoch 61/100\n",
            "8/8 [==============================] - 0s 6ms/step - loss: 6.3531 - val_loss: 6.7069\n",
            "Epoch 62/100\n",
            "8/8 [==============================] - 0s 6ms/step - loss: 6.3549 - val_loss: 6.7645\n",
            "Epoch 63/100\n",
            "8/8 [==============================] - 0s 5ms/step - loss: 6.3443 - val_loss: 6.6870\n",
            "Epoch 64/100\n",
            "8/8 [==============================] - 0s 6ms/step - loss: 6.3371 - val_loss: 6.7046\n",
            "Epoch 65/100\n",
            "8/8 [==============================] - 0s 7ms/step - loss: 6.3373 - val_loss: 6.7115\n",
            "Epoch 66/100\n",
            "8/8 [==============================] - 0s 6ms/step - loss: 6.3410 - val_loss: 6.7043\n",
            "Epoch 67/100\n",
            "8/8 [==============================] - 0s 6ms/step - loss: 6.3448 - val_loss: 6.7296\n",
            "Epoch 68/100\n",
            "8/8 [==============================] - 0s 6ms/step - loss: 6.3366 - val_loss: 6.6985\n",
            "Epoch 69/100\n",
            "8/8 [==============================] - 0s 6ms/step - loss: 6.3397 - val_loss: 6.6825\n",
            "Epoch 70/100\n",
            "8/8 [==============================] - 0s 6ms/step - loss: 6.3469 - val_loss: 6.7298\n",
            "Epoch 71/100\n",
            "8/8 [==============================] - 0s 5ms/step - loss: 6.3412 - val_loss: 6.7055\n",
            "Epoch 72/100\n",
            "8/8 [==============================] - 0s 7ms/step - loss: 6.3479 - val_loss: 6.6546\n",
            "Epoch 73/100\n",
            "8/8 [==============================] - 0s 5ms/step - loss: 6.3508 - val_loss: 6.6998\n",
            "Epoch 74/100\n",
            "8/8 [==============================] - 0s 5ms/step - loss: 6.3554 - val_loss: 6.8156\n",
            "Epoch 75/100\n",
            "8/8 [==============================] - 0s 8ms/step - loss: 6.3607 - val_loss: 6.7619\n",
            "Epoch 76/100\n",
            "8/8 [==============================] - 0s 6ms/step - loss: 6.3404 - val_loss: 6.6711\n",
            "Epoch 77/100\n",
            "8/8 [==============================] - 0s 6ms/step - loss: 6.3520 - val_loss: 6.7181\n",
            "Epoch 78/100\n",
            "8/8 [==============================] - 0s 5ms/step - loss: 6.3453 - val_loss: 6.6823\n",
            "Epoch 79/100\n",
            "8/8 [==============================] - 0s 6ms/step - loss: 6.3352 - val_loss: 6.7254\n",
            "Epoch 80/100\n",
            "8/8 [==============================] - 0s 6ms/step - loss: 6.3402 - val_loss: 6.7185\n",
            "Epoch 81/100\n",
            "8/8 [==============================] - 0s 7ms/step - loss: 6.3649 - val_loss: 6.6729\n",
            "Epoch 82/100\n",
            "8/8 [==============================] - 0s 6ms/step - loss: 6.3333 - val_loss: 6.7224\n",
            "Epoch 83/100\n",
            "8/8 [==============================] - 0s 5ms/step - loss: 6.3468 - val_loss: 6.7760\n",
            "Epoch 84/100\n",
            "8/8 [==============================] - 0s 5ms/step - loss: 6.3539 - val_loss: 6.7472\n",
            "Epoch 85/100\n",
            "8/8 [==============================] - 0s 6ms/step - loss: 6.3416 - val_loss: 6.7076\n",
            "Epoch 86/100\n",
            "8/8 [==============================] - 0s 6ms/step - loss: 6.3504 - val_loss: 6.6742\n",
            "Epoch 87/100\n",
            "8/8 [==============================] - 0s 6ms/step - loss: 6.3529 - val_loss: 6.7175\n",
            "Epoch 88/100\n",
            "8/8 [==============================] - 0s 6ms/step - loss: 6.3376 - val_loss: 6.6963\n",
            "Epoch 89/100\n",
            "8/8 [==============================] - 0s 6ms/step - loss: 6.3413 - val_loss: 6.7117\n",
            "Epoch 90/100\n",
            "8/8 [==============================] - 0s 5ms/step - loss: 6.3363 - val_loss: 6.7018\n",
            "Epoch 91/100\n",
            "8/8 [==============================] - 0s 6ms/step - loss: 6.3383 - val_loss: 6.7303\n",
            "Epoch 92/100\n",
            "8/8 [==============================] - 0s 6ms/step - loss: 6.3366 - val_loss: 6.6705\n",
            "Epoch 93/100\n",
            "8/8 [==============================] - 0s 6ms/step - loss: 6.3472 - val_loss: 6.6881\n",
            "Epoch 94/100\n",
            "8/8 [==============================] - 0s 6ms/step - loss: 6.3554 - val_loss: 6.7487\n",
            "Epoch 95/100\n",
            "8/8 [==============================] - 0s 7ms/step - loss: 6.3427 - val_loss: 6.6624\n",
            "Epoch 96/100\n",
            "8/8 [==============================] - 0s 5ms/step - loss: 6.3487 - val_loss: 6.7183\n",
            "Epoch 97/100\n",
            "8/8 [==============================] - 0s 7ms/step - loss: 6.3564 - val_loss: 6.6872\n",
            "Epoch 98/100\n",
            "8/8 [==============================] - 0s 5ms/step - loss: 6.3353 - val_loss: 6.7182\n",
            "Epoch 99/100\n",
            "8/8 [==============================] - 0s 5ms/step - loss: 6.3382 - val_loss: 6.7111\n",
            "Epoch 100/100\n",
            "8/8 [==============================] - 0s 5ms/step - loss: 6.3517 - val_loss: 6.6893\n",
            "CPU times: user 5.48 s, sys: 418 ms, total: 5.9 s\n",
            "Wall time: 10.8 s\n"
          ]
        }
      ]
    },
    {
      "cell_type": "markdown",
      "source": [
        "Using all the inputs in this regression model achieves a much lower training and validation error than the horsepower_model, which had one input:"
      ],
      "metadata": {
        "id": "4k2oDFnZucjR"
      }
    },
    {
      "cell_type": "code",
      "source": [
        "plot_loss(history)"
      ],
      "metadata": {
        "colab": {
          "base_uri": "https://localhost:8080/",
          "height": 283
        },
        "id": "Jdipl-hwubqe",
        "outputId": "b1c3d75b-1854-4d5d-fbf4-d907dd0f83c7"
      },
      "execution_count": null,
      "outputs": [
        {
          "output_type": "display_data",
          "data": {
            "image/png": "[encoded data removed]",
            "text/plain": [
              "<Figure size 432x288 with 1 Axes>"
            ]
          },
          "metadata": {
            "needs_background": "light"
          }
        }
      ]
    },
    {
      "cell_type": "markdown",
      "source": [
        "Collect the results on the test set for later:"
      ],
      "metadata": {
        "id": "4MQSWpHuuhju"
      }
    },
    {
      "cell_type": "code",
      "source": [
        "test_results['linear_model'] = linear_model.evaluate(\n",
        "    test_features, test_labels)"
      ],
      "metadata": {
        "colab": {
          "base_uri": "https://localhost:8080/"
        },
        "id": "jpf3KR5Kujqo",
        "outputId": "4f39aa63-79bd-4553-fa42-9bd457ece229"
      },
      "execution_count": null,
      "outputs": [
        {
          "output_type": "stream",
          "name": "stdout",
          "text": [
            "3/3 [==============================] - 0s 3ms/step - loss: 7.0196\n"
          ]
        }
      ]
    },
    {
      "cell_type": "code",
      "source": [
        "pd.DataFrame(test_results, index=['Mean absolute error [MPG]']).T"
      ],
      "metadata": {
        "colab": {
          "base_uri": "https://localhost:8080/",
          "height": 112
        },
        "id": "SgpwaI1A464q",
        "outputId": "25dc87a6-3183-4f1e-c734-2be8920e3d0d"
      },
      "execution_count": null,
      "outputs": [
        {
          "output_type": "execute_result",
          "data": {
            "text/html": [
              "\n",
              "  <div id=\"df-ecdfdd2c-c21f-4956-960d-e4b010cdfe98\">\n",
              "    <div class=\"colab-df-container\">\n",
              "      <div>\n",
              "<style scoped>\n",
              "    .dataframe tbody tr th:only-of-type {\n",
              "        vertical-align: middle;\n",
              "    }\n",
              "\n",
              "    .dataframe tbody tr th {\n",
              "        vertical-align: top;\n",
              "    }\n",
              "\n",
              "    .dataframe thead th {\n",
              "        text-align: right;\n",
              "    }\n",
              "</style>\n",
              "<table border=\"1\" class=\"dataframe\">\n",
              "  <thead>\n",
              "    <tr style=\"text-align: right;\">\n",
              "      <th></th>\n",
              "      <th>Mean absolute error [MPG]</th>\n",
              "    </tr>\n",
              "  </thead>\n",
              "  <tbody>\n",
              "    <tr>\n",
              "      <th>horsepower_model</th>\n",
              "      <td>4.028093</td>\n",
              "    </tr>\n",
              "    <tr>\n",
              "      <th>linear_model</th>\n",
              "      <td>7.019552</td>\n",
              "    </tr>\n",
              "  </tbody>\n",
              "</table>\n",
              "</div>\n",
              "      <button class=\"colab-df-convert\" onclick=\"convertToInteractive('df-ecdfdd2c-c21f-4956-960d-e4b010cdfe98')\"\n",
              "              title=\"Convert this dataframe to an interactive table.\"\n",
              "              style=\"display:none;\">\n",
              "        \n",
              "  <svg xmlns=\"http://www.w3.org/2000/svg\" height=\"24px\"viewBox=\"0 0 24 24\"\n",
              "       width=\"24px\">\n",
              "    <path d=\"M0 0h24v24H0V0z\" fill=\"none\"/>\n",
              "    <path d=\"M18.56 5.44l.94 2.06.94-2.06 2.06-.94-2.06-.94-.94-2.06-.94 2.06-2.06.94zm-11 1L8.5 8.5l.94-2.06 2.06-.94-2.06-.94L8.5 2.5l-.94 2.06-2.06.94zm10 10l.94 2.06.94-2.06 2.06-.94-2.06-.94-.94-2.06-.94 2.06-2.06.94z\"/><path d=\"M17.41 7.96l-1.37-1.37c-.4-.4-.92-.59-1.43-.59-.52 0-1.04.2-1.43.59L10.3 9.45l-7.72 7.72c-.78.78-.78 2.05 0 2.83L4 21.41c.39.39.9.59 1.41.59.51 0 1.02-.2 1.41-.59l7.78-7.78 2.81-2.81c.8-.78.8-2.07 0-2.86zM5.41 20L4 18.59l7.72-7.72 1.47 1.35L5.41 20z\"/>\n",
              "  </svg>\n",
              "      </button>\n",
              "      \n",
              "  <style>\n",
              "    .colab-df-container {\n",
              "      display:flex;\n",
              "      flex-wrap:wrap;\n",
              "      gap: 12px;\n",
              "    }\n",
              "\n",
              "    .colab-df-convert {\n",
              "      background-color: #E8F0FE;\n",
              "      border: none;\n",
              "      border-radius: 50%;\n",
              "      cursor: pointer;\n",
              "      display: none;\n",
              "      fill: #1967D2;\n",
              "      height: 32px;\n",
              "      padding: 0 0 0 0;\n",
              "      width: 32px;\n",
              "    }\n",
              "\n",
              "    .colab-df-convert:hover {\n",
              "      background-color: #E2EBFA;\n",
              "      box-shadow: 0px 1px 2px rgba(60, 64, 67, 0.3), 0px 1px 3px 1px rgba(60, 64, 67, 0.15);\n",
              "      fill: #174EA6;\n",
              "    }\n",
              "\n",
              "    [theme=dark] .colab-df-convert {\n",
              "      background-color: #3B4455;\n",
              "      fill: #D2E3FC;\n",
              "    }\n",
              "\n",
              "    [theme=dark] .colab-df-convert:hover {\n",
              "      background-color: #434B5C;\n",
              "      box-shadow: 0px 1px 3px 1px rgba(0, 0, 0, 0.15);\n",
              "      filter: drop-shadow(0px 1px 2px rgba(0, 0, 0, 0.3));\n",
              "      fill: #FFFFFF;\n",
              "    }\n",
              "  </style>\n",
              "\n",
              "      <script>\n",
              "        const buttonEl =\n",
              "          document.querySelector('#df-ecdfdd2c-c21f-4956-960d-e4b010cdfe98 button.colab-df-convert');\n",
              "        buttonEl.style.display =\n",
              "          google.colab.kernel.accessAllowed ? 'block' : 'none';\n",
              "\n",
              "        async function convertToInteractive(key) {\n",
              "          const element = document.querySelector('#df-ecdfdd2c-c21f-4956-960d-e4b010cdfe98');\n",
              "          const dataTable =\n",
              "            await google.colab.kernel.invokeFunction('convertToInteractive',\n",
              "                                                     [key], {});\n",
              "          if (!dataTable) return;\n",
              "\n",
              "          const docLinkHtml = 'Like what you see? Visit the ' +\n",
              "            '<a target=\"_blank\" href=https://colab.research.google.com/notebooks/data_table.ipynb>data table notebook</a>'\n",
              "            + ' to learn more about interactive tables.';\n",
              "          element.innerHTML = '';\n",
              "          dataTable['output_type'] = 'display_data';\n",
              "          await google.colab.output.renderOutput(dataTable, element);\n",
              "          const docLink = document.createElement('div');\n",
              "          docLink.innerHTML = docLinkHtml;\n",
              "          element.appendChild(docLink);\n",
              "        }\n",
              "      </script>\n",
              "    </div>\n",
              "  </div>\n",
              "  "
            ],
            "text/plain": [
              "                  Mean absolute error [MPG]\n",
              "horsepower_model                   4.028093\n",
              "linear_model                       7.019552"
            ]
          },
          "metadata": {},
          "execution_count": 30
        }
      ]
    }
  ]
}