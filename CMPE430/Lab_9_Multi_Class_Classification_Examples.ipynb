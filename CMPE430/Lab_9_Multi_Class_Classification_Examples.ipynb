{
  "nbformat": 4,
  "nbformat_minor": 0,
  "metadata": {
    "colab": {
      "name": "Lab 9 - Multi-Class Classification Examples.ipynb",
      "provenance": [],
      "collapsed_sections": [],
      "include_colab_link": true
    },
    "kernelspec": {
      "name": "python3",
      "display_name": "Python 3"
    },
    "language_info": {
      "name": "python"
    }
  },
  "cells": [
    {
      "cell_type": "markdown",
      "metadata": {
        "id": "view-in-github",
        "colab_type": "text"
      },
      "source": [
        "<a href=\"https://colab.research.google.com/github/emrahyurtlu/deep-learning/blob/main/CMPE430/Lab_9_Multi_Class_Classification_Examples.ipynb\" target=\"_parent\"><img src=\"https://colab.research.google.com/assets/colab-badge.svg\" alt=\"Open In Colab\"/></a>"
      ]
    },
    {
      "cell_type": "markdown",
      "source": [
        "#**CMPE430 LAB WEEK 9 - Multi-Class Classification Examples**\n",
        "\n",
        "15.12.2021 Thursday 14:30-16:20\n",
        "\n",
        "Lab Assistant : Cansen Çağlayan (cansen.caglayan@atilim.edu.tr)"
      ],
      "metadata": {
        "id": "SNJE6WZQF92I"
      }
    },
    {
      "cell_type": "markdown",
      "source": [
        "**References**\n",
        "\n",
        "Book : Deep Learning with Python, François Chollet\n",
        "\n",
        "https://machinelearningmastery.com/difference-between-a-batch-and-an-epoch/\n",
        "\n",
        "https://towardsdatascience.com/epoch-vs-iterations-vs-batch-size-4dfb9c7ce9c9\n",
        "\n",
        "https://www.kaggle.com/kumarsatwik/beginner-iris-dataset-classification/notebook\n",
        "\n",
        "\n"
      ],
      "metadata": {
        "id": "zsHSWDtgGDq6"
      }
    },
    {
      "cell_type": "markdown",
      "source": [
        "#**Recall : Epoch and Batch**"
      ],
      "metadata": {
        "id": "GW1gRGazRei7"
      }
    },
    {
      "cell_type": "markdown",
      "source": [
        "\n",
        "**Epoch** \n",
        "\n",
        "One Epoch is when an ENTIRE training dataset is passed forward and backward through the neural network only ONCE.\n",
        "\n",
        "Since one epoch is too big to feed to the computer at once we divide it in several smaller batches.\n",
        "\n",
        "One epoch leads to underfitting of the curve in the graph.\n",
        "\n",
        "**So, what is the right numbers of epochs?**\n",
        "Unfortunately, there is no right answer to this question. The answer is different for different datasets.\n",
        "\n",
        "\n",
        "**Batch :**\n",
        "\n",
        "You can’t pass the entire dataset into the neural net at once. So, you divide dataset into Number of Batches or sets or parts.\n",
        "\n",
        "Batch size = Total number of training examples present in a single batch.\n",
        "\n",
        "**Note:** Batch size and number of batches are two different things.\n",
        "\n",
        "Example : Let’s say we have 2000 training examples that we are going to use .\n",
        "We can divide the dataset of 2000 examples into batches of 500 then it will take 4 iterations to complete 1 epoch."
      ],
      "metadata": {
        "id": "fYuJqfZYODtY"
      }
    },
    {
      "cell_type": "markdown",
      "source": [
        "**Example :**\n",
        "\n",
        "Assume you have a dataset with 200 samples (rows of data) and you choose a batch size of 5 and 1,000 epochs.\n",
        "\n",
        "This means that the dataset will be divided into 40 batches, each with five samples. The model weights will be updated after each batch of five samples.\n",
        "\n",
        "This also means that one epoch will involve 40 batches or 40 updates to the model.\n",
        "\n",
        "With 1,000 epochs, the model will be exposed to or pass through the whole dataset 1,000 times. That is a total of 40,000 batches during the entire training process."
      ],
      "metadata": {
        "id": "NaVurkaFQLPy"
      }
    },
    {
      "cell_type": "markdown",
      "source": [
        "#**Multi-Class Classification**"
      ],
      "metadata": {
        "id": "6U5OwcdQSV6W"
      }
    },
    {
      "cell_type": "markdown",
      "source": [
        "##**Iris Flowers Dataset**"
      ],
      "metadata": {
        "id": "Ck8ZOYxJUWDt"
      }
    },
    {
      "cell_type": "markdown",
      "source": [
        "\n",
        "\n",
        "This dataset is well studied and is a good problem for practicing on neural networks because all of the 4 input variables are numeric and have the same scale in centimeters. Each instance describes the properties of an observed flower measurements and the output variable is specific iris species.\n",
        "\n",
        "This is a **multi-class classification** problem, meaning that there are more than two classes to be predicted, in fact there are **three flower species**. This is an important type of problem on which to practice with neural networks because the three class values require specialized handling."
      ],
      "metadata": {
        "id": "jLUurirYULmW"
      }
    },
    {
      "cell_type": "markdown",
      "source": [
        "Dataset : https://www.kaggle.com/uciml/iris"
      ],
      "metadata": {
        "id": "OF4cfSstUpOD"
      }
    },
    {
      "cell_type": "code",
      "source": [
        "# multi-class classification with Keras\n",
        "import pandas as pd\n",
        "import tensorflow as tf\n",
        "import numpy as np\n",
        "from keras.models import Sequential\n",
        "from keras.layers import Dense\n",
        "from keras.utils import np_utils\n",
        "from sklearn.preprocessing import LabelEncoder\n",
        "import matplotlib.pyplot as plt\n",
        "from sklearn.model_selection import train_test_split\n",
        "import os"
      ],
      "metadata": {
        "id": "58Qrco0QUeqr"
      },
      "execution_count": null,
      "outputs": []
    },
    {
      "cell_type": "markdown",
      "source": [
        "**Load The Dataset**\n",
        "\n",
        "The dataset can be loaded directly. Because the output variable contains strings, it is easiest to load the data using pandas. We can then split the attributes (columns) into input variables (X) and output variables (Y)."
      ],
      "metadata": {
        "id": "2aQ-gXt4VUCu"
      }
    },
    {
      "cell_type": "code",
      "source": [
        "# load dataset\n",
        "dataset = pd.read_csv(\"IRIS.csv\")"
      ],
      "metadata": {
        "id": "vMwPT28uVajg"
      },
      "execution_count": null,
      "outputs": []
    },
    {
      "cell_type": "code",
      "source": [
        "dataset.shape"
      ],
      "metadata": {
        "colab": {
          "base_uri": "https://localhost:8080/"
        },
        "id": "eHQb4BSaafAb",
        "outputId": "542807c6-b215-400b-9b54-04b866105eab"
      },
      "execution_count": null,
      "outputs": [
        {
          "output_type": "execute_result",
          "data": {
            "text/plain": [
              "(150, 5)"
            ]
          },
          "metadata": {},
          "execution_count": 3
        }
      ]
    },
    {
      "cell_type": "code",
      "source": [
        "dataset.head()"
      ],
      "metadata": {
        "colab": {
          "base_uri": "https://localhost:8080/",
          "height": 206
        },
        "id": "pzp9GMyManoD",
        "outputId": "830f35f7-d388-4e95-a0e9-3492edb6ae7c"
      },
      "execution_count": null,
      "outputs": [
        {
          "output_type": "execute_result",
          "data": {
            "text/html": [
              "<div>\n",
              "<style scoped>\n",
              "    .dataframe tbody tr th:only-of-type {\n",
              "        vertical-align: middle;\n",
              "    }\n",
              "\n",
              "    .dataframe tbody tr th {\n",
              "        vertical-align: top;\n",
              "    }\n",
              "\n",
              "    .dataframe thead th {\n",
              "        text-align: right;\n",
              "    }\n",
              "</style>\n",
              "<table border=\"1\" class=\"dataframe\">\n",
              "  <thead>\n",
              "    <tr style=\"text-align: right;\">\n",
              "      <th></th>\n",
              "      <th>sepal_length</th>\n",
              "      <th>sepal_width</th>\n",
              "      <th>petal_length</th>\n",
              "      <th>petal_width</th>\n",
              "      <th>species</th>\n",
              "    </tr>\n",
              "  </thead>\n",
              "  <tbody>\n",
              "    <tr>\n",
              "      <th>0</th>\n",
              "      <td>5.1</td>\n",
              "      <td>3.5</td>\n",
              "      <td>1.4</td>\n",
              "      <td>0.2</td>\n",
              "      <td>Iris-setosa</td>\n",
              "    </tr>\n",
              "    <tr>\n",
              "      <th>1</th>\n",
              "      <td>4.9</td>\n",
              "      <td>3.0</td>\n",
              "      <td>1.4</td>\n",
              "      <td>0.2</td>\n",
              "      <td>Iris-setosa</td>\n",
              "    </tr>\n",
              "    <tr>\n",
              "      <th>2</th>\n",
              "      <td>4.7</td>\n",
              "      <td>3.2</td>\n",
              "      <td>1.3</td>\n",
              "      <td>0.2</td>\n",
              "      <td>Iris-setosa</td>\n",
              "    </tr>\n",
              "    <tr>\n",
              "      <th>3</th>\n",
              "      <td>4.6</td>\n",
              "      <td>3.1</td>\n",
              "      <td>1.5</td>\n",
              "      <td>0.2</td>\n",
              "      <td>Iris-setosa</td>\n",
              "    </tr>\n",
              "    <tr>\n",
              "      <th>4</th>\n",
              "      <td>5.0</td>\n",
              "      <td>3.6</td>\n",
              "      <td>1.4</td>\n",
              "      <td>0.2</td>\n",
              "      <td>Iris-setosa</td>\n",
              "    </tr>\n",
              "  </tbody>\n",
              "</table>\n",
              "</div>"
            ],
            "text/plain": [
              "   sepal_length  sepal_width  petal_length  petal_width      species\n",
              "0           5.1          3.5           1.4          0.2  Iris-setosa\n",
              "1           4.9          3.0           1.4          0.2  Iris-setosa\n",
              "2           4.7          3.2           1.3          0.2  Iris-setosa\n",
              "3           4.6          3.1           1.5          0.2  Iris-setosa\n",
              "4           5.0          3.6           1.4          0.2  Iris-setosa"
            ]
          },
          "metadata": {},
          "execution_count": 4
        }
      ]
    },
    {
      "cell_type": "code",
      "source": [
        "dataset[\"species\"].value_counts()"
      ],
      "metadata": {
        "colab": {
          "base_uri": "https://localhost:8080/"
        },
        "id": "LLSVJNvObyN4",
        "outputId": "ad2b703b-1b43-4784-ada1-2a1ecea1ddc8"
      },
      "execution_count": null,
      "outputs": [
        {
          "output_type": "execute_result",
          "data": {
            "text/plain": [
              "Iris-versicolor    50\n",
              "Iris-virginica     50\n",
              "Iris-setosa        50\n",
              "Name: species, dtype: int64"
            ]
          },
          "metadata": {},
          "execution_count": 5
        }
      ]
    },
    {
      "cell_type": "code",
      "source": [
        "dataset.info()"
      ],
      "metadata": {
        "colab": {
          "base_uri": "https://localhost:8080/"
        },
        "id": "XirP3fxcb5xb",
        "outputId": "e2fc8581-87dd-4f36-d493-0b6a44d47100"
      },
      "execution_count": null,
      "outputs": [
        {
          "output_type": "stream",
          "name": "stdout",
          "text": [
            "<class 'pandas.core.frame.DataFrame'>\n",
            "RangeIndex: 150 entries, 0 to 149\n",
            "Data columns (total 5 columns):\n",
            " #   Column        Non-Null Count  Dtype  \n",
            "---  ------        --------------  -----  \n",
            " 0   sepal_length  150 non-null    float64\n",
            " 1   sepal_width   150 non-null    float64\n",
            " 2   petal_length  150 non-null    float64\n",
            " 3   petal_width   150 non-null    float64\n",
            " 4   species       150 non-null    object \n",
            "dtypes: float64(4), object(1)\n",
            "memory usage: 6.0+ KB\n"
          ]
        }
      ]
    },
    {
      "cell_type": "code",
      "source": [
        "dataset.describe()"
      ],
      "metadata": {
        "colab": {
          "base_uri": "https://localhost:8080/",
          "height": 300
        },
        "id": "UepeSZ99b-77",
        "outputId": "db8e6e6a-ec7e-434d-c508-65d9e4f66607"
      },
      "execution_count": null,
      "outputs": [
        {
          "output_type": "execute_result",
          "data": {
            "text/html": [
              "<div>\n",
              "<style scoped>\n",
              "    .dataframe tbody tr th:only-of-type {\n",
              "        vertical-align: middle;\n",
              "    }\n",
              "\n",
              "    .dataframe tbody tr th {\n",
              "        vertical-align: top;\n",
              "    }\n",
              "\n",
              "    .dataframe thead th {\n",
              "        text-align: right;\n",
              "    }\n",
              "</style>\n",
              "<table border=\"1\" class=\"dataframe\">\n",
              "  <thead>\n",
              "    <tr style=\"text-align: right;\">\n",
              "      <th></th>\n",
              "      <th>sepal_length</th>\n",
              "      <th>sepal_width</th>\n",
              "      <th>petal_length</th>\n",
              "      <th>petal_width</th>\n",
              "    </tr>\n",
              "  </thead>\n",
              "  <tbody>\n",
              "    <tr>\n",
              "      <th>count</th>\n",
              "      <td>150.000000</td>\n",
              "      <td>150.000000</td>\n",
              "      <td>150.000000</td>\n",
              "      <td>150.000000</td>\n",
              "    </tr>\n",
              "    <tr>\n",
              "      <th>mean</th>\n",
              "      <td>5.843333</td>\n",
              "      <td>3.054000</td>\n",
              "      <td>3.758667</td>\n",
              "      <td>1.198667</td>\n",
              "    </tr>\n",
              "    <tr>\n",
              "      <th>std</th>\n",
              "      <td>0.828066</td>\n",
              "      <td>0.433594</td>\n",
              "      <td>1.764420</td>\n",
              "      <td>0.763161</td>\n",
              "    </tr>\n",
              "    <tr>\n",
              "      <th>min</th>\n",
              "      <td>4.300000</td>\n",
              "      <td>2.000000</td>\n",
              "      <td>1.000000</td>\n",
              "      <td>0.100000</td>\n",
              "    </tr>\n",
              "    <tr>\n",
              "      <th>25%</th>\n",
              "      <td>5.100000</td>\n",
              "      <td>2.800000</td>\n",
              "      <td>1.600000</td>\n",
              "      <td>0.300000</td>\n",
              "    </tr>\n",
              "    <tr>\n",
              "      <th>50%</th>\n",
              "      <td>5.800000</td>\n",
              "      <td>3.000000</td>\n",
              "      <td>4.350000</td>\n",
              "      <td>1.300000</td>\n",
              "    </tr>\n",
              "    <tr>\n",
              "      <th>75%</th>\n",
              "      <td>6.400000</td>\n",
              "      <td>3.300000</td>\n",
              "      <td>5.100000</td>\n",
              "      <td>1.800000</td>\n",
              "    </tr>\n",
              "    <tr>\n",
              "      <th>max</th>\n",
              "      <td>7.900000</td>\n",
              "      <td>4.400000</td>\n",
              "      <td>6.900000</td>\n",
              "      <td>2.500000</td>\n",
              "    </tr>\n",
              "  </tbody>\n",
              "</table>\n",
              "</div>"
            ],
            "text/plain": [
              "       sepal_length  sepal_width  petal_length  petal_width\n",
              "count    150.000000   150.000000    150.000000   150.000000\n",
              "mean       5.843333     3.054000      3.758667     1.198667\n",
              "std        0.828066     0.433594      1.764420     0.763161\n",
              "min        4.300000     2.000000      1.000000     0.100000\n",
              "25%        5.100000     2.800000      1.600000     0.300000\n",
              "50%        5.800000     3.000000      4.350000     1.300000\n",
              "75%        6.400000     3.300000      5.100000     1.800000\n",
              "max        7.900000     4.400000      6.900000     2.500000"
            ]
          },
          "metadata": {},
          "execution_count": 7
        }
      ]
    },
    {
      "cell_type": "code",
      "source": [
        "# Check if there are any missing values\n",
        "dataset.isna().sum()"
      ],
      "metadata": {
        "colab": {
          "base_uri": "https://localhost:8080/"
        },
        "id": "hC2TZmF3cEWP",
        "outputId": "eb108fb0-9117-49c9-eca0-20071e695103"
      },
      "execution_count": null,
      "outputs": [
        {
          "output_type": "execute_result",
          "data": {
            "text/plain": [
              "sepal_length    0\n",
              "sepal_width     0\n",
              "petal_length    0\n",
              "petal_width     0\n",
              "species         0\n",
              "dtype: int64"
            ]
          },
          "metadata": {},
          "execution_count": 8
        }
      ]
    },
    {
      "cell_type": "code",
      "source": [
        "dataset[\"species\"].value_counts().plot(\n",
        "    kind=\"bar\", color=[\"salmon\", \"lightblue\", \"lightgreen\"])\n",
        "plt.xticks(rotation=0)\n",
        "\n",
        "plt.style.use(\"default\")\n",
        "plt.style.use(\"seaborn-whitegrid\")"
      ],
      "metadata": {
        "colab": {
          "base_uri": "https://localhost:8080/",
          "height": 265
        },
        "id": "AALFwOdPcOJs",
        "outputId": "2644df9a-d9bb-4222-f5de-ab69259bcb3a"
      },
      "execution_count": null,
      "outputs": [
        {
          "output_type": "display_data",
          "data": {
            "image/png": "[encoded data removed]",
            "text/plain": [
              "<Figure size 432x288 with 1 Axes>"
            ]
          },
          "metadata": {
            "needs_background": "light"
          }
        }
      ]
    },
    {
      "cell_type": "code",
      "source": [
        "X = dataset.drop(\"species\", axis=1)\n",
        "y = dataset[\"species\"]"
      ],
      "metadata": {
        "id": "2oPavBM-dWYk"
      },
      "execution_count": null,
      "outputs": []
    },
    {
      "cell_type": "markdown",
      "source": [
        "**Encode The Output Variable**\n",
        "\n",
        "The output variable contains three different string values.\n",
        "\n",
        "When modeling multi-class classification problems using neural networks, it is good practice to reshape the output attribute from a vector that contains values for each class value to be a matrix with a boolean for each class value and whether or not a given instance has that class value or not.\n",
        "\n",
        "This is called one hot encoding.\n",
        "\n",
        "For example, in this problem three class values are Iris-setosa, Iris-versicolor and Iris-virginica. If we had the observations:\n",
        "\n",
        "* Iris-setosa\n",
        "* Iris-versicolor\n",
        "* Iris-virginica\n",
        "\n",
        "We can turn this into a one-hot encoded binary matrix for each data instance that would look as follows:\n",
        "\n",
        "Iris-setosa,\tIris-versicolor,\tIris-virginica\n",
        "\n",
        "1,\t\t             0,\t\t\t           0\n",
        "\n",
        "0,\t\t             1, \t\t\t         0\n",
        "\n",
        "0, \t\t             0, \t\t\t         1"
      ],
      "metadata": {
        "id": "JwTjqCtcVjXt"
      }
    },
    {
      "cell_type": "markdown",
      "source": [
        "We can do this by first encoding the strings consistently to **integers** using the scikit-learn class **LabelEncoder**. Then convert the vector of integers to a **one hot encoding** using the Keras function **to_categorical().**"
      ],
      "metadata": {
        "id": "sDmJHLKKWzIW"
      }
    },
    {
      "cell_type": "code",
      "source": [
        "# encode class values as integers\n",
        "encoder = LabelEncoder()\n",
        "encoder.fit(y)\n",
        "encoded_y = encoder.transform(y)\n",
        "# convert integers to one hot encoded\n",
        "one_hot_encoded_y = np_utils.to_categorical(encoded_y)"
      ],
      "metadata": {
        "id": "H8hzeManVcxC"
      },
      "execution_count": null,
      "outputs": []
    },
    {
      "cell_type": "code",
      "source": [
        "\"\"\"# split into train and test\n",
        "n_train = 500\n",
        "trainX, testX = X[:n_train, :], X[n_train:, :]\n",
        "trainy, testy = y[:n_train], y[n_train:]\"\"\""
      ],
      "metadata": {
        "colab": {
          "base_uri": "https://localhost:8080/",
          "height": 35
        },
        "id": "tTYVnFGSeddm",
        "outputId": "5da77899-5355-4280-fa53-e7f249d11cea"
      },
      "execution_count": null,
      "outputs": [
        {
          "output_type": "execute_result",
          "data": {
            "application/vnd.google.colaboratory.intrinsic+json": {
              "type": "string"
            },
            "text/plain": [
              "'# split into train and test\\nn_train = 500\\ntrainX, testX = X[:n_train, :], X[n_train:, :]\\ntrainy, testy = y[:n_train], y[n_train:]'"
            ]
          },
          "metadata": {},
          "execution_count": 12
        }
      ]
    },
    {
      "cell_type": "markdown",
      "source": [
        "**Split the Data**"
      ],
      "metadata": {
        "id": "QMVNYEfAfAOk"
      }
    },
    {
      "cell_type": "code",
      "source": [
        "#Train Test Split Function\n",
        "X_train, X_test, y_train, y_test = train_test_split(X, one_hot_encoded_y, test_size=0.2)\n",
        "\n",
        "# %20 of data will be used for test"
      ],
      "metadata": {
        "id": "Sq25NY68d0w8"
      },
      "execution_count": null,
      "outputs": []
    },
    {
      "cell_type": "code",
      "source": [
        "X_train"
      ],
      "metadata": {
        "colab": {
          "base_uri": "https://localhost:8080/",
          "height": 423
        },
        "id": "rlvP_cO9e3GU",
        "outputId": "e04fc783-8b6b-4999-8463-94b648c58e9a"
      },
      "execution_count": null,
      "outputs": [
        {
          "output_type": "execute_result",
          "data": {
            "text/html": [
              "<div>\n",
              "<style scoped>\n",
              "    .dataframe tbody tr th:only-of-type {\n",
              "        vertical-align: middle;\n",
              "    }\n",
              "\n",
              "    .dataframe tbody tr th {\n",
              "        vertical-align: top;\n",
              "    }\n",
              "\n",
              "    .dataframe thead th {\n",
              "        text-align: right;\n",
              "    }\n",
              "</style>\n",
              "<table border=\"1\" class=\"dataframe\">\n",
              "  <thead>\n",
              "    <tr style=\"text-align: right;\">\n",
              "      <th></th>\n",
              "      <th>sepal_length</th>\n",
              "      <th>sepal_width</th>\n",
              "      <th>petal_length</th>\n",
              "      <th>petal_width</th>\n",
              "    </tr>\n",
              "  </thead>\n",
              "  <tbody>\n",
              "    <tr>\n",
              "      <th>73</th>\n",
              "      <td>6.1</td>\n",
              "      <td>2.8</td>\n",
              "      <td>4.7</td>\n",
              "      <td>1.2</td>\n",
              "    </tr>\n",
              "    <tr>\n",
              "      <th>37</th>\n",
              "      <td>4.9</td>\n",
              "      <td>3.1</td>\n",
              "      <td>1.5</td>\n",
              "      <td>0.1</td>\n",
              "    </tr>\n",
              "    <tr>\n",
              "      <th>129</th>\n",
              "      <td>7.2</td>\n",
              "      <td>3.0</td>\n",
              "      <td>5.8</td>\n",
              "      <td>1.6</td>\n",
              "    </tr>\n",
              "    <tr>\n",
              "      <th>3</th>\n",
              "      <td>4.6</td>\n",
              "      <td>3.1</td>\n",
              "      <td>1.5</td>\n",
              "      <td>0.2</td>\n",
              "    </tr>\n",
              "    <tr>\n",
              "      <th>103</th>\n",
              "      <td>6.3</td>\n",
              "      <td>2.9</td>\n",
              "      <td>5.6</td>\n",
              "      <td>1.8</td>\n",
              "    </tr>\n",
              "    <tr>\n",
              "      <th>...</th>\n",
              "      <td>...</td>\n",
              "      <td>...</td>\n",
              "      <td>...</td>\n",
              "      <td>...</td>\n",
              "    </tr>\n",
              "    <tr>\n",
              "      <th>71</th>\n",
              "      <td>6.1</td>\n",
              "      <td>2.8</td>\n",
              "      <td>4.0</td>\n",
              "      <td>1.3</td>\n",
              "    </tr>\n",
              "    <tr>\n",
              "      <th>78</th>\n",
              "      <td>6.0</td>\n",
              "      <td>2.9</td>\n",
              "      <td>4.5</td>\n",
              "      <td>1.5</td>\n",
              "    </tr>\n",
              "    <tr>\n",
              "      <th>79</th>\n",
              "      <td>5.7</td>\n",
              "      <td>2.6</td>\n",
              "      <td>3.5</td>\n",
              "      <td>1.0</td>\n",
              "    </tr>\n",
              "    <tr>\n",
              "      <th>111</th>\n",
              "      <td>6.4</td>\n",
              "      <td>2.7</td>\n",
              "      <td>5.3</td>\n",
              "      <td>1.9</td>\n",
              "    </tr>\n",
              "    <tr>\n",
              "      <th>88</th>\n",
              "      <td>5.6</td>\n",
              "      <td>3.0</td>\n",
              "      <td>4.1</td>\n",
              "      <td>1.3</td>\n",
              "    </tr>\n",
              "  </tbody>\n",
              "</table>\n",
              "<p>120 rows × 4 columns</p>\n",
              "</div>"
            ],
            "text/plain": [
              "     sepal_length  sepal_width  petal_length  petal_width\n",
              "73            6.1          2.8           4.7          1.2\n",
              "37            4.9          3.1           1.5          0.1\n",
              "129           7.2          3.0           5.8          1.6\n",
              "3             4.6          3.1           1.5          0.2\n",
              "103           6.3          2.9           5.6          1.8\n",
              "..            ...          ...           ...          ...\n",
              "71            6.1          2.8           4.0          1.3\n",
              "78            6.0          2.9           4.5          1.5\n",
              "79            5.7          2.6           3.5          1.0\n",
              "111           6.4          2.7           5.3          1.9\n",
              "88            5.6          3.0           4.1          1.3\n",
              "\n",
              "[120 rows x 4 columns]"
            ]
          },
          "metadata": {},
          "execution_count": 14
        }
      ]
    },
    {
      "cell_type": "code",
      "source": [
        "y_train"
      ],
      "metadata": {
        "colab": {
          "base_uri": "https://localhost:8080/"
        },
        "id": "XwM5ki7YfHoc",
        "outputId": "d734e56f-0c8a-45d9-abae-3ddc61065422"
      },
      "execution_count": null,
      "outputs": [
        {
          "output_type": "execute_result",
          "data": {
            "text/plain": [
              "array([[0., 1., 0.],\n",
              "       [1., 0., 0.],\n",
              "       [0., 0., 1.],\n",
              "       [1., 0., 0.],\n",
              "       [0., 0., 1.],\n",
              "       [0., 1., 0.],\n",
              "       [1., 0., 0.],\n",
              "       [0., 0., 1.],\n",
              "       [0., 0., 1.],\n",
              "       [0., 0., 1.],\n",
              "       [1., 0., 0.],\n",
              "       [0., 1., 0.],\n",
              "       [1., 0., 0.],\n",
              "       [1., 0., 0.],\n",
              "       [0., 1., 0.],\n",
              "       [0., 0., 1.],\n",
              "       [0., 0., 1.],\n",
              "       [0., 0., 1.],\n",
              "       [0., 0., 1.],\n",
              "       [0., 0., 1.],\n",
              "       [1., 0., 0.],\n",
              "       [0., 1., 0.],\n",
              "       [0., 1., 0.],\n",
              "       [0., 0., 1.],\n",
              "       [1., 0., 0.],\n",
              "       [0., 0., 1.],\n",
              "       [0., 1., 0.],\n",
              "       [0., 0., 1.],\n",
              "       [0., 1., 0.],\n",
              "       [0., 0., 1.],\n",
              "       [0., 0., 1.],\n",
              "       [0., 1., 0.],\n",
              "       [0., 0., 1.],\n",
              "       [0., 1., 0.],\n",
              "       [0., 1., 0.],\n",
              "       [1., 0., 0.],\n",
              "       [0., 1., 0.],\n",
              "       [1., 0., 0.],\n",
              "       [1., 0., 0.],\n",
              "       [0., 1., 0.],\n",
              "       [0., 0., 1.],\n",
              "       [1., 0., 0.],\n",
              "       [0., 1., 0.],\n",
              "       [1., 0., 0.],\n",
              "       [1., 0., 0.],\n",
              "       [0., 0., 1.],\n",
              "       [0., 1., 0.],\n",
              "       [1., 0., 0.],\n",
              "       [1., 0., 0.],\n",
              "       [0., 1., 0.],\n",
              "       [0., 0., 1.],\n",
              "       [1., 0., 0.],\n",
              "       [1., 0., 0.],\n",
              "       [0., 0., 1.],\n",
              "       [0., 0., 1.],\n",
              "       [1., 0., 0.],\n",
              "       [0., 1., 0.],\n",
              "       [0., 1., 0.],\n",
              "       [1., 0., 0.],\n",
              "       [1., 0., 0.],\n",
              "       [0., 1., 0.],\n",
              "       [0., 1., 0.],\n",
              "       [0., 1., 0.],\n",
              "       [0., 1., 0.],\n",
              "       [0., 0., 1.],\n",
              "       [1., 0., 0.],\n",
              "       [0., 1., 0.],\n",
              "       [0., 1., 0.],\n",
              "       [0., 0., 1.],\n",
              "       [0., 0., 1.],\n",
              "       [1., 0., 0.],\n",
              "       [0., 1., 0.],\n",
              "       [1., 0., 0.],\n",
              "       [0., 1., 0.],\n",
              "       [0., 0., 1.],\n",
              "       [0., 0., 1.],\n",
              "       [0., 0., 1.],\n",
              "       [1., 0., 0.],\n",
              "       [0., 0., 1.],\n",
              "       [0., 0., 1.],\n",
              "       [1., 0., 0.],\n",
              "       [1., 0., 0.],\n",
              "       [1., 0., 0.],\n",
              "       [1., 0., 0.],\n",
              "       [1., 0., 0.],\n",
              "       [0., 1., 0.],\n",
              "       [0., 0., 1.],\n",
              "       [0., 0., 1.],\n",
              "       [1., 0., 0.],\n",
              "       [1., 0., 0.],\n",
              "       [1., 0., 0.],\n",
              "       [1., 0., 0.],\n",
              "       [0., 0., 1.],\n",
              "       [1., 0., 0.],\n",
              "       [0., 1., 0.],\n",
              "       [0., 1., 0.],\n",
              "       [0., 1., 0.],\n",
              "       [0., 0., 1.],\n",
              "       [0., 0., 1.],\n",
              "       [0., 1., 0.],\n",
              "       [0., 1., 0.],\n",
              "       [1., 0., 0.],\n",
              "       [1., 0., 0.],\n",
              "       [0., 0., 1.],\n",
              "       [1., 0., 0.],\n",
              "       [1., 0., 0.],\n",
              "       [1., 0., 0.],\n",
              "       [1., 0., 0.],\n",
              "       [0., 1., 0.],\n",
              "       [1., 0., 0.],\n",
              "       [1., 0., 0.],\n",
              "       [0., 0., 1.],\n",
              "       [0., 0., 1.],\n",
              "       [0., 0., 1.],\n",
              "       [0., 0., 1.],\n",
              "       [0., 1., 0.],\n",
              "       [0., 1., 0.],\n",
              "       [0., 1., 0.],\n",
              "       [0., 0., 1.],\n",
              "       [0., 1., 0.]], dtype=float32)"
            ]
          },
          "metadata": {},
          "execution_count": 15
        }
      ]
    },
    {
      "cell_type": "code",
      "source": [
        "#model definition\n",
        "model = Sequential()\n",
        "model.add(Dense(8, input_dim=4, activation='relu'))\n",
        "model.add(Dense(3, activation='softmax'))\n",
        "# Compile model\n",
        "model.compile(loss='categorical_crossentropy', optimizer='adam', metrics=['accuracy'])"
      ],
      "metadata": {
        "id": "_lnc3KfOXObR"
      },
      "execution_count": null,
      "outputs": []
    },
    {
      "cell_type": "code",
      "source": [
        "#Summarize the Model\n",
        "model.summary()"
      ],
      "metadata": {
        "colab": {
          "base_uri": "https://localhost:8080/"
        },
        "id": "ix-R_ja-XmZj",
        "outputId": "9226b8a3-6917-4709-b943-a5ab3f0437dd"
      },
      "execution_count": null,
      "outputs": [
        {
          "output_type": "stream",
          "name": "stdout",
          "text": [
            "Model: \"sequential_1\"\n",
            "_________________________________________________________________\n",
            " Layer (type)                Output Shape              Param #   \n",
            "=================================================================\n",
            " dense_3 (Dense)             (None, 8)                 40        \n",
            "                                                                 \n",
            " dense_4 (Dense)             (None, 3)                 27        \n",
            "                                                                 \n",
            "=================================================================\n",
            "Total params: 67\n",
            "Trainable params: 67\n",
            "Non-trainable params: 0\n",
            "_________________________________________________________________\n"
          ]
        }
      ]
    },
    {
      "cell_type": "code",
      "source": [
        "tf.keras.utils.plot_model(model,show_shapes=True)"
      ],
      "metadata": {
        "colab": {
          "base_uri": "https://localhost:8080/",
          "height": 312
        },
        "id": "qPApv7MyXqO2",
        "outputId": "8bfa61ab-0396-49a2-910f-4c88b44d8cac"
      },
      "execution_count": null,
      "outputs": [
        {
          "output_type": "execute_result",
          "data": {
            "image/png": "[encoded data removed]",
            "text/plain": [
              "<IPython.core.display.Image object>"
            ]
          },
          "metadata": {},
          "execution_count": 23
        }
      ]
    },
    {
      "cell_type": "code",
      "source": [
        "history = model.fit(X_train, y_train, epochs=200, batch_size=5)"
      ],
      "metadata": {
        "colab": {
          "base_uri": "https://localhost:8080/"
        },
        "id": "11s3nNvRXfKc",
        "outputId": "7b0ffb41-cd47-43e2-93a5-fece8fdf6872"
      },
      "execution_count": null,
      "outputs": [
        {
          "output_type": "stream",
          "name": "stdout",
          "text": [
            "Epoch 1/200\n",
            "24/24 [==============================] - 0s 4ms/step - loss: 1.5469 - accuracy: 0.3417\n",
            "Epoch 2/200\n",
            "24/24 [==============================] - 0s 10ms/step - loss: 1.4305 - accuracy: 0.3333\n",
            "Epoch 3/200\n",
            "24/24 [==============================] - 0s 4ms/step - loss: 1.3405 - accuracy: 0.3333\n",
            "Epoch 4/200\n",
            "24/24 [==============================] - 0s 5ms/step - loss: 1.2552 - accuracy: 0.3333\n",
            "Epoch 5/200\n",
            "24/24 [==============================] - 0s 3ms/step - loss: 1.1815 - accuracy: 0.3333\n",
            "Epoch 6/200\n",
            "24/24 [==============================] - 0s 3ms/step - loss: 1.1182 - accuracy: 0.3333\n",
            "Epoch 7/200\n",
            "24/24 [==============================] - 0s 3ms/step - loss: 1.0629 - accuracy: 0.3333\n",
            "Epoch 8/200\n",
            "24/24 [==============================] - 0s 3ms/step - loss: 1.0156 - accuracy: 0.3333\n",
            "Epoch 9/200\n",
            "24/24 [==============================] - 0s 8ms/step - loss: 0.9743 - accuracy: 0.3333\n",
            "Epoch 10/200\n",
            "24/24 [==============================] - 0s 6ms/step - loss: 0.9368 - accuracy: 0.3333\n",
            "Epoch 11/200\n",
            "24/24 [==============================] - 0s 7ms/step - loss: 0.9049 - accuracy: 0.3333\n",
            "Epoch 12/200\n",
            "24/24 [==============================] - 0s 5ms/step - loss: 0.8758 - accuracy: 0.3417\n",
            "Epoch 13/200\n",
            "24/24 [==============================] - 0s 6ms/step - loss: 0.8510 - accuracy: 0.4000\n",
            "Epoch 14/200\n",
            "24/24 [==============================] - 0s 4ms/step - loss: 0.8279 - accuracy: 0.6250\n",
            "Epoch 15/200\n",
            "24/24 [==============================] - 0s 5ms/step - loss: 0.8050 - accuracy: 0.6917\n",
            "Epoch 16/200\n",
            "24/24 [==============================] - 0s 6ms/step - loss: 0.7846 - accuracy: 0.6917\n",
            "Epoch 17/200\n",
            "24/24 [==============================] - 0s 6ms/step - loss: 0.7662 - accuracy: 0.6917\n",
            "Epoch 18/200\n",
            "24/24 [==============================] - 0s 5ms/step - loss: 0.7485 - accuracy: 0.6917\n",
            "Epoch 19/200\n",
            "24/24 [==============================] - 0s 7ms/step - loss: 0.7347 - accuracy: 0.6917\n",
            "Epoch 20/200\n",
            "24/24 [==============================] - 0s 5ms/step - loss: 0.7257 - accuracy: 0.6917\n",
            "Epoch 21/200\n",
            "24/24 [==============================] - 0s 3ms/step - loss: 0.7184 - accuracy: 0.6917\n",
            "Epoch 22/200\n",
            "24/24 [==============================] - 0s 6ms/step - loss: 0.7110 - accuracy: 0.6917\n",
            "Epoch 23/200\n",
            "24/24 [==============================] - 0s 8ms/step - loss: 0.7040 - accuracy: 0.6917\n",
            "Epoch 24/200\n",
            "24/24 [==============================] - 0s 4ms/step - loss: 0.6983 - accuracy: 0.6917\n",
            "Epoch 25/200\n",
            "24/24 [==============================] - 0s 3ms/step - loss: 0.6916 - accuracy: 0.6917\n",
            "Epoch 26/200\n",
            "24/24 [==============================] - 0s 3ms/step - loss: 0.6860 - accuracy: 0.6917\n",
            "Epoch 27/200\n",
            "24/24 [==============================] - 0s 3ms/step - loss: 0.6809 - accuracy: 0.6917\n",
            "Epoch 28/200\n",
            "24/24 [==============================] - 0s 4ms/step - loss: 0.6739 - accuracy: 0.6917\n",
            "Epoch 29/200\n",
            "24/24 [==============================] - 0s 4ms/step - loss: 0.6687 - accuracy: 0.6917\n",
            "Epoch 30/200\n",
            "24/24 [==============================] - 0s 2ms/step - loss: 0.6637 - accuracy: 0.6917\n",
            "Epoch 31/200\n",
            "24/24 [==============================] - 0s 2ms/step - loss: 0.6580 - accuracy: 0.6917\n",
            "Epoch 32/200\n",
            "24/24 [==============================] - 0s 2ms/step - loss: 0.6533 - accuracy: 0.6917\n",
            "Epoch 33/200\n",
            "24/24 [==============================] - 0s 2ms/step - loss: 0.6485 - accuracy: 0.6917\n",
            "Epoch 34/200\n",
            "24/24 [==============================] - 0s 4ms/step - loss: 0.6434 - accuracy: 0.6917\n",
            "Epoch 35/200\n",
            "24/24 [==============================] - 0s 3ms/step - loss: 0.6383 - accuracy: 0.6917\n",
            "Epoch 36/200\n",
            "24/24 [==============================] - 0s 3ms/step - loss: 0.6341 - accuracy: 0.6917\n",
            "Epoch 37/200\n",
            "24/24 [==============================] - 0s 3ms/step - loss: 0.6296 - accuracy: 0.6917\n",
            "Epoch 38/200\n",
            "24/24 [==============================] - 0s 4ms/step - loss: 0.6246 - accuracy: 0.6917\n",
            "Epoch 39/200\n",
            "24/24 [==============================] - 0s 3ms/step - loss: 0.6210 - accuracy: 0.6917\n",
            "Epoch 40/200\n",
            "24/24 [==============================] - 0s 7ms/step - loss: 0.6160 - accuracy: 0.6917\n",
            "Epoch 41/200\n",
            "24/24 [==============================] - 0s 4ms/step - loss: 0.6128 - accuracy: 0.6917\n",
            "Epoch 42/200\n",
            "24/24 [==============================] - 0s 4ms/step - loss: 0.6089 - accuracy: 0.7000\n",
            "Epoch 43/200\n",
            "24/24 [==============================] - 0s 4ms/step - loss: 0.6053 - accuracy: 0.6917\n",
            "Epoch 44/200\n",
            "24/24 [==============================] - 0s 4ms/step - loss: 0.5998 - accuracy: 0.6917\n",
            "Epoch 45/200\n",
            "24/24 [==============================] - 0s 4ms/step - loss: 0.5959 - accuracy: 0.6917\n",
            "Epoch 46/200\n",
            "24/24 [==============================] - 0s 3ms/step - loss: 0.5926 - accuracy: 0.6917\n",
            "Epoch 47/200\n",
            "24/24 [==============================] - 0s 4ms/step - loss: 0.5886 - accuracy: 0.7000\n",
            "Epoch 48/200\n",
            "24/24 [==============================] - 0s 3ms/step - loss: 0.5846 - accuracy: 0.7000\n",
            "Epoch 49/200\n",
            "24/24 [==============================] - 0s 5ms/step - loss: 0.5813 - accuracy: 0.7000\n",
            "Epoch 50/200\n",
            "24/24 [==============================] - 0s 3ms/step - loss: 0.5790 - accuracy: 0.7000\n",
            "Epoch 51/200\n",
            "24/24 [==============================] - 0s 3ms/step - loss: 0.5739 - accuracy: 0.7000\n",
            "Epoch 52/200\n",
            "24/24 [==============================] - 0s 4ms/step - loss: 0.5709 - accuracy: 0.7000\n",
            "Epoch 53/200\n",
            "24/24 [==============================] - 0s 4ms/step - loss: 0.5671 - accuracy: 0.7000\n",
            "Epoch 54/200\n",
            "24/24 [==============================] - 0s 3ms/step - loss: 0.5640 - accuracy: 0.7000\n",
            "Epoch 55/200\n",
            "24/24 [==============================] - 0s 4ms/step - loss: 0.5605 - accuracy: 0.7000\n",
            "Epoch 56/200\n",
            "24/24 [==============================] - 0s 4ms/step - loss: 0.5579 - accuracy: 0.7000\n",
            "Epoch 57/200\n",
            "24/24 [==============================] - 0s 3ms/step - loss: 0.5553 - accuracy: 0.7000\n",
            "Epoch 58/200\n",
            "24/24 [==============================] - 0s 3ms/step - loss: 0.5513 - accuracy: 0.7000\n",
            "Epoch 59/200\n",
            "24/24 [==============================] - 0s 5ms/step - loss: 0.5484 - accuracy: 0.7000\n",
            "Epoch 60/200\n",
            "24/24 [==============================] - 0s 3ms/step - loss: 0.5456 - accuracy: 0.7167\n",
            "Epoch 61/200\n",
            "24/24 [==============================] - 0s 4ms/step - loss: 0.5428 - accuracy: 0.7083\n",
            "Epoch 62/200\n",
            "24/24 [==============================] - 0s 3ms/step - loss: 0.5397 - accuracy: 0.7083\n",
            "Epoch 63/200\n",
            "24/24 [==============================] - 0s 3ms/step - loss: 0.5370 - accuracy: 0.7083\n",
            "Epoch 64/200\n",
            "24/24 [==============================] - 0s 3ms/step - loss: 0.5333 - accuracy: 0.7167\n",
            "Epoch 65/200\n",
            "24/24 [==============================] - 0s 3ms/step - loss: 0.5308 - accuracy: 0.7167\n",
            "Epoch 66/200\n",
            "24/24 [==============================] - 0s 3ms/step - loss: 0.5284 - accuracy: 0.7167\n",
            "Epoch 67/200\n",
            "24/24 [==============================] - 0s 3ms/step - loss: 0.5256 - accuracy: 0.7167\n",
            "Epoch 68/200\n",
            "24/24 [==============================] - 0s 6ms/step - loss: 0.5228 - accuracy: 0.7167\n",
            "Epoch 69/200\n",
            "24/24 [==============================] - 0s 3ms/step - loss: 0.5209 - accuracy: 0.7167\n",
            "Epoch 70/200\n",
            "24/24 [==============================] - 0s 3ms/step - loss: 0.5178 - accuracy: 0.7167\n",
            "Epoch 71/200\n",
            "24/24 [==============================] - 0s 3ms/step - loss: 0.5158 - accuracy: 0.7167\n",
            "Epoch 72/200\n",
            "24/24 [==============================] - 0s 4ms/step - loss: 0.5129 - accuracy: 0.7167\n",
            "Epoch 73/200\n",
            "24/24 [==============================] - 0s 5ms/step - loss: 0.5099 - accuracy: 0.7167\n",
            "Epoch 74/200\n",
            "24/24 [==============================] - 0s 4ms/step - loss: 0.5076 - accuracy: 0.7167\n",
            "Epoch 75/200\n",
            "24/24 [==============================] - 0s 3ms/step - loss: 0.5047 - accuracy: 0.7167\n",
            "Epoch 76/200\n",
            "24/24 [==============================] - 0s 2ms/step - loss: 0.5025 - accuracy: 0.7250\n",
            "Epoch 77/200\n",
            "24/24 [==============================] - 0s 2ms/step - loss: 0.5007 - accuracy: 0.7167\n",
            "Epoch 78/200\n",
            "24/24 [==============================] - 0s 2ms/step - loss: 0.4978 - accuracy: 0.7250\n",
            "Epoch 79/200\n",
            "24/24 [==============================] - 0s 2ms/step - loss: 0.4949 - accuracy: 0.7250\n",
            "Epoch 80/200\n",
            "24/24 [==============================] - 0s 2ms/step - loss: 0.4931 - accuracy: 0.7250\n",
            "Epoch 81/200\n",
            "24/24 [==============================] - 0s 2ms/step - loss: 0.4913 - accuracy: 0.7250\n",
            "Epoch 82/200\n",
            "24/24 [==============================] - 0s 2ms/step - loss: 0.4884 - accuracy: 0.7333\n",
            "Epoch 83/200\n",
            "24/24 [==============================] - 0s 2ms/step - loss: 0.4867 - accuracy: 0.7417\n",
            "Epoch 84/200\n",
            "24/24 [==============================] - 0s 2ms/step - loss: 0.4836 - accuracy: 0.7333\n",
            "Epoch 85/200\n",
            "24/24 [==============================] - 0s 2ms/step - loss: 0.4823 - accuracy: 0.7250\n",
            "Epoch 86/200\n",
            "24/24 [==============================] - 0s 2ms/step - loss: 0.4795 - accuracy: 0.7250\n",
            "Epoch 87/200\n",
            "24/24 [==============================] - 0s 2ms/step - loss: 0.4770 - accuracy: 0.7417\n",
            "Epoch 88/200\n",
            "24/24 [==============================] - 0s 2ms/step - loss: 0.4764 - accuracy: 0.7417\n",
            "Epoch 89/200\n",
            "24/24 [==============================] - 0s 2ms/step - loss: 0.4732 - accuracy: 0.7250\n",
            "Epoch 90/200\n",
            "24/24 [==============================] - 0s 2ms/step - loss: 0.4703 - accuracy: 0.7500\n",
            "Epoch 91/200\n",
            "24/24 [==============================] - 0s 2ms/step - loss: 0.4686 - accuracy: 0.7750\n",
            "Epoch 92/200\n",
            "24/24 [==============================] - 0s 2ms/step - loss: 0.4669 - accuracy: 0.7750\n",
            "Epoch 93/200\n",
            "24/24 [==============================] - 0s 2ms/step - loss: 0.4644 - accuracy: 0.7583\n",
            "Epoch 94/200\n",
            "24/24 [==============================] - 0s 2ms/step - loss: 0.4629 - accuracy: 0.7667\n",
            "Epoch 95/200\n",
            "24/24 [==============================] - 0s 2ms/step - loss: 0.4618 - accuracy: 0.7917\n",
            "Epoch 96/200\n",
            "24/24 [==============================] - 0s 2ms/step - loss: 0.4592 - accuracy: 0.7667\n",
            "Epoch 97/200\n",
            "24/24 [==============================] - 0s 2ms/step - loss: 0.4566 - accuracy: 0.7667\n",
            "Epoch 98/200\n",
            "24/24 [==============================] - 0s 2ms/step - loss: 0.4550 - accuracy: 0.7583\n",
            "Epoch 99/200\n",
            "24/24 [==============================] - 0s 2ms/step - loss: 0.4522 - accuracy: 0.7833\n",
            "Epoch 100/200\n",
            "24/24 [==============================] - 0s 2ms/step - loss: 0.4505 - accuracy: 0.7833\n",
            "Epoch 101/200\n",
            "24/24 [==============================] - 0s 2ms/step - loss: 0.4495 - accuracy: 0.8083\n",
            "Epoch 102/200\n",
            "24/24 [==============================] - 0s 2ms/step - loss: 0.4465 - accuracy: 0.7917\n",
            "Epoch 103/200\n",
            "24/24 [==============================] - 0s 2ms/step - loss: 0.4448 - accuracy: 0.7750\n",
            "Epoch 104/200\n",
            "24/24 [==============================] - 0s 2ms/step - loss: 0.4425 - accuracy: 0.8000\n",
            "Epoch 105/200\n",
            "24/24 [==============================] - 0s 2ms/step - loss: 0.4406 - accuracy: 0.8167\n",
            "Epoch 106/200\n",
            "24/24 [==============================] - 0s 3ms/step - loss: 0.4402 - accuracy: 0.8500\n",
            "Epoch 107/200\n",
            "24/24 [==============================] - 0s 2ms/step - loss: 0.4381 - accuracy: 0.7833\n",
            "Epoch 108/200\n",
            "24/24 [==============================] - 0s 3ms/step - loss: 0.4346 - accuracy: 0.8083\n",
            "Epoch 109/200\n",
            "24/24 [==============================] - 0s 2ms/step - loss: 0.4328 - accuracy: 0.8250\n",
            "Epoch 110/200\n",
            "24/24 [==============================] - 0s 2ms/step - loss: 0.4321 - accuracy: 0.8083\n",
            "Epoch 111/200\n",
            "24/24 [==============================] - 0s 2ms/step - loss: 0.4302 - accuracy: 0.8583\n",
            "Epoch 112/200\n",
            "24/24 [==============================] - 0s 2ms/step - loss: 0.4273 - accuracy: 0.8250\n",
            "Epoch 113/200\n",
            "24/24 [==============================] - 0s 2ms/step - loss: 0.4256 - accuracy: 0.8333\n",
            "Epoch 114/200\n",
            "24/24 [==============================] - 0s 2ms/step - loss: 0.4231 - accuracy: 0.8417\n",
            "Epoch 115/200\n",
            "24/24 [==============================] - 0s 2ms/step - loss: 0.4217 - accuracy: 0.8583\n",
            "Epoch 116/200\n",
            "24/24 [==============================] - 0s 2ms/step - loss: 0.4194 - accuracy: 0.8500\n",
            "Epoch 117/200\n",
            "24/24 [==============================] - 0s 2ms/step - loss: 0.4178 - accuracy: 0.8583\n",
            "Epoch 118/200\n",
            "24/24 [==============================] - 0s 2ms/step - loss: 0.4161 - accuracy: 0.8667\n",
            "Epoch 119/200\n",
            "24/24 [==============================] - 0s 2ms/step - loss: 0.4139 - accuracy: 0.8333\n",
            "Epoch 120/200\n",
            "24/24 [==============================] - 0s 2ms/step - loss: 0.4130 - accuracy: 0.8583\n",
            "Epoch 121/200\n",
            "24/24 [==============================] - 0s 2ms/step - loss: 0.4101 - accuracy: 0.8667\n",
            "Epoch 122/200\n",
            "24/24 [==============================] - 0s 2ms/step - loss: 0.4083 - accuracy: 0.8583\n",
            "Epoch 123/200\n",
            "24/24 [==============================] - 0s 2ms/step - loss: 0.4063 - accuracy: 0.8750\n",
            "Epoch 124/200\n",
            "24/24 [==============================] - 0s 2ms/step - loss: 0.4070 - accuracy: 0.8833\n",
            "Epoch 125/200\n",
            "24/24 [==============================] - 0s 2ms/step - loss: 0.4031 - accuracy: 0.8583\n",
            "Epoch 126/200\n",
            "24/24 [==============================] - 0s 2ms/step - loss: 0.4009 - accuracy: 0.8750\n",
            "Epoch 127/200\n",
            "24/24 [==============================] - 0s 2ms/step - loss: 0.4000 - accuracy: 0.8667\n",
            "Epoch 128/200\n",
            "24/24 [==============================] - 0s 2ms/step - loss: 0.3973 - accuracy: 0.8750\n",
            "Epoch 129/200\n",
            "24/24 [==============================] - 0s 2ms/step - loss: 0.3954 - accuracy: 0.8750\n",
            "Epoch 130/200\n",
            "24/24 [==============================] - 0s 2ms/step - loss: 0.3948 - accuracy: 0.9083\n",
            "Epoch 131/200\n",
            "24/24 [==============================] - 0s 2ms/step - loss: 0.3925 - accuracy: 0.8833\n",
            "Epoch 132/200\n",
            "24/24 [==============================] - 0s 2ms/step - loss: 0.3905 - accuracy: 0.8833\n",
            "Epoch 133/200\n",
            "24/24 [==============================] - 0s 2ms/step - loss: 0.3887 - accuracy: 0.8833\n",
            "Epoch 134/200\n",
            "24/24 [==============================] - 0s 2ms/step - loss: 0.3869 - accuracy: 0.8917\n",
            "Epoch 135/200\n",
            "24/24 [==============================] - 0s 2ms/step - loss: 0.3844 - accuracy: 0.8750\n",
            "Epoch 136/200\n",
            "24/24 [==============================] - 0s 2ms/step - loss: 0.3826 - accuracy: 0.8917\n",
            "Epoch 137/200\n",
            "24/24 [==============================] - 0s 3ms/step - loss: 0.3810 - accuracy: 0.8833\n",
            "Epoch 138/200\n",
            "24/24 [==============================] - 0s 2ms/step - loss: 0.3790 - accuracy: 0.9000\n",
            "Epoch 139/200\n",
            "24/24 [==============================] - 0s 2ms/step - loss: 0.3792 - accuracy: 0.9000\n",
            "Epoch 140/200\n",
            "24/24 [==============================] - 0s 2ms/step - loss: 0.3748 - accuracy: 0.9167\n",
            "Epoch 141/200\n",
            "24/24 [==============================] - 0s 2ms/step - loss: 0.3738 - accuracy: 0.9167\n",
            "Epoch 142/200\n",
            "24/24 [==============================] - 0s 2ms/step - loss: 0.3718 - accuracy: 0.9000\n",
            "Epoch 143/200\n",
            "24/24 [==============================] - 0s 2ms/step - loss: 0.3704 - accuracy: 0.9167\n",
            "Epoch 144/200\n",
            "24/24 [==============================] - 0s 2ms/step - loss: 0.3676 - accuracy: 0.9167\n",
            "Epoch 145/200\n",
            "24/24 [==============================] - 0s 2ms/step - loss: 0.3659 - accuracy: 0.9167\n",
            "Epoch 146/200\n",
            "24/24 [==============================] - 0s 2ms/step - loss: 0.3645 - accuracy: 0.9167\n",
            "Epoch 147/200\n",
            "24/24 [==============================] - 0s 2ms/step - loss: 0.3619 - accuracy: 0.9250\n",
            "Epoch 148/200\n",
            "24/24 [==============================] - 0s 2ms/step - loss: 0.3608 - accuracy: 0.9167\n",
            "Epoch 149/200\n",
            "24/24 [==============================] - 0s 2ms/step - loss: 0.3601 - accuracy: 0.9500\n",
            "Epoch 150/200\n",
            "24/24 [==============================] - 0s 2ms/step - loss: 0.3563 - accuracy: 0.9667\n",
            "Epoch 151/200\n",
            "24/24 [==============================] - 0s 2ms/step - loss: 0.3549 - accuracy: 0.9167\n",
            "Epoch 152/200\n",
            "24/24 [==============================] - 0s 2ms/step - loss: 0.3539 - accuracy: 0.9417\n",
            "Epoch 153/200\n",
            "24/24 [==============================] - 0s 2ms/step - loss: 0.3508 - accuracy: 0.9500\n",
            "Epoch 154/200\n",
            "24/24 [==============================] - 0s 2ms/step - loss: 0.3494 - accuracy: 0.9667\n",
            "Epoch 155/200\n",
            "24/24 [==============================] - 0s 2ms/step - loss: 0.3468 - accuracy: 0.9500\n",
            "Epoch 156/200\n",
            "24/24 [==============================] - 0s 2ms/step - loss: 0.3456 - accuracy: 0.9500\n",
            "Epoch 157/200\n",
            "24/24 [==============================] - 0s 2ms/step - loss: 0.3437 - accuracy: 0.9417\n",
            "Epoch 158/200\n",
            "24/24 [==============================] - 0s 2ms/step - loss: 0.3416 - accuracy: 0.9667\n",
            "Epoch 159/200\n",
            "24/24 [==============================] - 0s 2ms/step - loss: 0.3396 - accuracy: 0.9583\n",
            "Epoch 160/200\n",
            "24/24 [==============================] - 0s 2ms/step - loss: 0.3375 - accuracy: 0.9750\n",
            "Epoch 161/200\n",
            "24/24 [==============================] - 0s 2ms/step - loss: 0.3373 - accuracy: 0.9750\n",
            "Epoch 162/200\n",
            "24/24 [==============================] - 0s 2ms/step - loss: 0.3344 - accuracy: 0.9500\n",
            "Epoch 163/200\n",
            "24/24 [==============================] - 0s 2ms/step - loss: 0.3324 - accuracy: 0.9500\n",
            "Epoch 164/200\n",
            "24/24 [==============================] - 0s 2ms/step - loss: 0.3298 - accuracy: 0.9667\n",
            "Epoch 165/200\n",
            "24/24 [==============================] - 0s 2ms/step - loss: 0.3282 - accuracy: 0.9750\n",
            "Epoch 166/200\n",
            "24/24 [==============================] - 0s 2ms/step - loss: 0.3267 - accuracy: 0.9667\n",
            "Epoch 167/200\n",
            "24/24 [==============================] - 0s 2ms/step - loss: 0.3264 - accuracy: 0.9667\n",
            "Epoch 168/200\n",
            "24/24 [==============================] - 0s 2ms/step - loss: 0.3222 - accuracy: 0.9750\n",
            "Epoch 169/200\n",
            "24/24 [==============================] - 0s 2ms/step - loss: 0.3205 - accuracy: 0.9750\n",
            "Epoch 170/200\n",
            "24/24 [==============================] - 0s 2ms/step - loss: 0.3186 - accuracy: 0.9667\n",
            "Epoch 171/200\n",
            "24/24 [==============================] - 0s 2ms/step - loss: 0.3184 - accuracy: 0.9750\n",
            "Epoch 172/200\n",
            "24/24 [==============================] - 0s 2ms/step - loss: 0.3162 - accuracy: 0.9667\n",
            "Epoch 173/200\n",
            "24/24 [==============================] - 0s 2ms/step - loss: 0.3126 - accuracy: 0.9750\n",
            "Epoch 174/200\n",
            "24/24 [==============================] - 0s 2ms/step - loss: 0.3117 - accuracy: 0.9667\n",
            "Epoch 175/200\n",
            "24/24 [==============================] - 0s 2ms/step - loss: 0.3088 - accuracy: 0.9750\n",
            "Epoch 176/200\n",
            "24/24 [==============================] - 0s 2ms/step - loss: 0.3068 - accuracy: 0.9750\n",
            "Epoch 177/200\n",
            "24/24 [==============================] - 0s 2ms/step - loss: 0.3053 - accuracy: 0.9750\n",
            "Epoch 178/200\n",
            "24/24 [==============================] - 0s 2ms/step - loss: 0.3036 - accuracy: 0.9750\n",
            "Epoch 179/200\n",
            "24/24 [==============================] - 0s 2ms/step - loss: 0.3014 - accuracy: 0.9750\n",
            "Epoch 180/200\n",
            "24/24 [==============================] - 0s 2ms/step - loss: 0.2987 - accuracy: 0.9750\n",
            "Epoch 181/200\n",
            "24/24 [==============================] - 0s 2ms/step - loss: 0.2971 - accuracy: 0.9750\n",
            "Epoch 182/200\n",
            "24/24 [==============================] - 0s 2ms/step - loss: 0.2948 - accuracy: 0.9750\n",
            "Epoch 183/200\n",
            "24/24 [==============================] - 0s 2ms/step - loss: 0.2931 - accuracy: 0.9750\n",
            "Epoch 184/200\n",
            "24/24 [==============================] - 0s 2ms/step - loss: 0.2927 - accuracy: 0.9750\n",
            "Epoch 185/200\n",
            "24/24 [==============================] - 0s 2ms/step - loss: 0.2890 - accuracy: 0.9750\n",
            "Epoch 186/200\n",
            "24/24 [==============================] - 0s 2ms/step - loss: 0.2875 - accuracy: 0.9750\n",
            "Epoch 187/200\n",
            "24/24 [==============================] - 0s 2ms/step - loss: 0.2866 - accuracy: 0.9750\n",
            "Epoch 188/200\n",
            "24/24 [==============================] - 0s 2ms/step - loss: 0.2849 - accuracy: 0.9750\n",
            "Epoch 189/200\n",
            "24/24 [==============================] - 0s 3ms/step - loss: 0.2813 - accuracy: 0.9750\n",
            "Epoch 190/200\n",
            "24/24 [==============================] - 0s 2ms/step - loss: 0.2792 - accuracy: 0.9750\n",
            "Epoch 191/200\n",
            "24/24 [==============================] - 0s 2ms/step - loss: 0.2798 - accuracy: 0.9750\n",
            "Epoch 192/200\n",
            "24/24 [==============================] - 0s 2ms/step - loss: 0.2752 - accuracy: 0.9750\n",
            "Epoch 193/200\n",
            "24/24 [==============================] - 0s 2ms/step - loss: 0.2748 - accuracy: 0.9750\n",
            "Epoch 194/200\n",
            "24/24 [==============================] - 0s 2ms/step - loss: 0.2715 - accuracy: 0.9750\n",
            "Epoch 195/200\n",
            "24/24 [==============================] - 0s 2ms/step - loss: 0.2702 - accuracy: 0.9750\n",
            "Epoch 196/200\n",
            "24/24 [==============================] - 0s 2ms/step - loss: 0.2687 - accuracy: 0.9750\n",
            "Epoch 197/200\n",
            "24/24 [==============================] - 0s 2ms/step - loss: 0.2658 - accuracy: 0.9750\n",
            "Epoch 198/200\n",
            "24/24 [==============================] - 0s 2ms/step - loss: 0.2658 - accuracy: 0.9750\n",
            "Epoch 199/200\n",
            "24/24 [==============================] - 0s 2ms/step - loss: 0.2620 - accuracy: 0.9750\n",
            "Epoch 200/200\n",
            "24/24 [==============================] - 0s 2ms/step - loss: 0.2620 - accuracy: 0.9750\n"
          ]
        }
      ]
    },
    {
      "cell_type": "markdown",
      "source": [
        "120/5 = 24"
      ],
      "metadata": {
        "id": "BlrDoM-hiMm7"
      }
    },
    {
      "cell_type": "markdown",
      "source": [
        "Note that we use a “softmax” activation function in the output layer. This is to ensure the output values are in the range of 0 and 1 and may be used as predicted probabilities."
      ],
      "metadata": {
        "id": "S7djEsMBXNz9"
      }
    },
    {
      "cell_type": "code",
      "source": [
        "test_loss, test_acc = model.evaluate(X_test,y_test)\n"
      ],
      "metadata": {
        "colab": {
          "base_uri": "https://localhost:8080/"
        },
        "id": "oQC2uY2yXcCG",
        "outputId": "44f0ccb2-a57f-4297-9d38-f90bbdfcb2b5"
      },
      "execution_count": null,
      "outputs": [
        {
          "output_type": "stream",
          "name": "stdout",
          "text": [
            "1/1 [==============================] - 0s 41ms/step - loss: 0.3046 - accuracy: 0.9333\n"
          ]
        }
      ]
    },
    {
      "cell_type": "markdown",
      "source": [
        "#**Classifying newswires: a multiclass classification example**"
      ],
      "metadata": {
        "id": "fVTcLdTPpQm2"
      }
    },
    {
      "cell_type": "markdown",
      "source": [
        "Reuters newswires into 46 mutually exclusive topics. Because you have many classes, this problem is an instance of multi-class classification; and because each data point should be classified into only one category, the problem is more specifically an instance of single-label, multiclass classification."
      ],
      "metadata": {
        "id": "TvR64b3hpaKz"
      }
    },
    {
      "cell_type": "markdown",
      "source": [
        "Reuters dataset, a set of short newswires and their topics, published\n",
        "by Reuters in 1986. It’s a simple, widely used toy dataset for text classification. There\n",
        "are 46 different topics; some topics are more represented than others, but each topic\n",
        "has at least 10 examples in the training set.\n",
        " Like IMDB and MNIST, the Reuters dataset comes packaged as part of Keras."
      ],
      "metadata": {
        "id": "ih-q5YvjppJL"
      }
    },
    {
      "cell_type": "code",
      "source": [
        "from keras.datasets import reuters\n",
        "(train_data, train_labels), (test_data, test_labels) = reuters.load_data(num_words=10000)"
      ],
      "metadata": {
        "colab": {
          "base_uri": "https://localhost:8080/"
        },
        "id": "ursgeBesphub",
        "outputId": "f03a0d39-44fa-4587-acf9-af751923a8d8"
      },
      "execution_count": null,
      "outputs": [
        {
          "output_type": "stream",
          "name": "stdout",
          "text": [
            "Downloading data from https://storage.googleapis.com/tensorflow/tf-keras-datasets/reuters.npz\n",
            "2113536/2110848 [==============================] - 0s 0us/step\n",
            "2121728/2110848 [==============================] - 0s 0us/step\n"
          ]
        }
      ]
    },
    {
      "cell_type": "markdown",
      "source": [
        "num_words=10000 restricts the data to the\n",
        "10,000 most frequently occurring words found in the data.\n",
        "\n",
        "We have 8,982 training examples and 2,246 test examples:"
      ],
      "metadata": {
        "id": "UhZbMkudpv6B"
      }
    },
    {
      "cell_type": "code",
      "source": [
        "len(train_data)"
      ],
      "metadata": {
        "colab": {
          "base_uri": "https://localhost:8080/"
        },
        "id": "x2N1IQqppscH",
        "outputId": "4e44868d-996a-4a2a-80fa-a5461b8d046d"
      },
      "execution_count": null,
      "outputs": [
        {
          "output_type": "execute_result",
          "data": {
            "text/plain": [
              "8982"
            ]
          },
          "metadata": {},
          "execution_count": 38
        }
      ]
    },
    {
      "cell_type": "code",
      "source": [
        "len(test_data)"
      ],
      "metadata": {
        "colab": {
          "base_uri": "https://localhost:8080/"
        },
        "id": "zOIDEyzBp4EC",
        "outputId": "ff27fcd3-6d31-4c54-d62f-9d67d567da61"
      },
      "execution_count": null,
      "outputs": [
        {
          "output_type": "execute_result",
          "data": {
            "text/plain": [
              "2246"
            ]
          },
          "metadata": {},
          "execution_count": 39
        }
      ]
    },
    {
      "cell_type": "code",
      "source": [
        "train_data[10]"
      ],
      "metadata": {
        "colab": {
          "base_uri": "https://localhost:8080/"
        },
        "id": "5FCgBbWpp7Wt",
        "outputId": "1ec4d1aa-998e-4fa9-e6b2-cafac8ceadbe"
      },
      "execution_count": null,
      "outputs": [
        {
          "output_type": "execute_result",
          "data": {
            "text/plain": [
              "[1,\n",
              " 245,\n",
              " 273,\n",
              " 207,\n",
              " 156,\n",
              " 53,\n",
              " 74,\n",
              " 160,\n",
              " 26,\n",
              " 14,\n",
              " 46,\n",
              " 296,\n",
              " 26,\n",
              " 39,\n",
              " 74,\n",
              " 2979,\n",
              " 3554,\n",
              " 14,\n",
              " 46,\n",
              " 4689,\n",
              " 4329,\n",
              " 86,\n",
              " 61,\n",
              " 3499,\n",
              " 4795,\n",
              " 14,\n",
              " 61,\n",
              " 451,\n",
              " 4329,\n",
              " 17,\n",
              " 12]"
            ]
          },
          "metadata": {},
          "execution_count": 40
        }
      ]
    },
    {
      "cell_type": "markdown",
      "source": [
        "**Decoding newswires back to text**"
      ],
      "metadata": {
        "id": "Z3ZVoqr7p-cq"
      }
    },
    {
      "cell_type": "code",
      "source": [
        "word_index = reuters.get_word_index()\n",
        "reverse_word_index = dict([(value, key) for (key, value) in word_index.items()])\n",
        "decoded_newswire = ' '.join([reverse_word_index.get(i - 3, '?') for i in train_data[0]])\n",
        "\n",
        "#Note that the indices are offset by 3 because 0, 1, and 2 are reserved  indices for “padding,” “start of sequence,” and “unknown.”"
      ],
      "metadata": {
        "colab": {
          "base_uri": "https://localhost:8080/"
        },
        "id": "7HiCpC4Np_LU",
        "outputId": "7eb51496-7fa8-4cd8-c6e2-547d256e2627"
      },
      "execution_count": null,
      "outputs": [
        {
          "output_type": "stream",
          "name": "stdout",
          "text": [
            "Downloading data from https://storage.googleapis.com/tensorflow/tf-keras-datasets/reuters_word_index.json\n",
            "557056/550378 [==============================] - 0s 0us/step\n",
            "565248/550378 [==============================] - 0s 0us/step\n"
          ]
        }
      ]
    },
    {
      "cell_type": "code",
      "source": [
        "decoded_newswire"
      ],
      "metadata": {
        "colab": {
          "base_uri": "https://localhost:8080/",
          "height": 70
        },
        "id": "y3fZTS_6qGIV",
        "outputId": "e59a7ac4-ddf0-4847-cccb-af94d674b1f1"
      },
      "execution_count": null,
      "outputs": [
        {
          "output_type": "execute_result",
          "data": {
            "application/vnd.google.colaboratory.intrinsic+json": {
              "type": "string"
            },
            "text/plain": [
              "'? ? ? said as a result of its december acquisition of space co it expects earnings per share in 1987 of 1 15 to 1 30 dlrs per share up from 70 cts in 1986 the company said pretax net should rise to nine to 10 mln dlrs from six mln dlrs in 1986 and rental operation revenues to 19 to 22 mln dlrs from 12 5 mln dlrs it said cash flow per share this year should be 2 50 to three dlrs reuter 3'"
            ]
          },
          "metadata": {},
          "execution_count": 42
        }
      ]
    },
    {
      "cell_type": "code",
      "source": [
        "#The label associated with an example is an integer between 0 and 45—a topic index:\n",
        "train_labels[10]"
      ],
      "metadata": {
        "colab": {
          "base_uri": "https://localhost:8080/"
        },
        "id": "Oke7GaIDqMme",
        "outputId": "9f96f11d-be5c-44d2-83b5-3b6e57c881d7"
      },
      "execution_count": null,
      "outputs": [
        {
          "output_type": "execute_result",
          "data": {
            "text/plain": [
              "3"
            ]
          },
          "metadata": {},
          "execution_count": 43
        }
      ]
    },
    {
      "cell_type": "markdown",
      "source": [
        "**Preparing the data**\n",
        "\n",
        "We should vectorize the data."
      ],
      "metadata": {
        "id": "BsrTN4peqRKv"
      }
    },
    {
      "cell_type": "code",
      "source": [
        "def vectorize_sequences(sequences, dimension=10000):\n",
        "  results = np.zeros((len(sequences), dimension))\n",
        "  for i, sequence in enumerate(sequences):\n",
        "    results[i, sequence] = 1.\n",
        "  return results\n",
        "  \n",
        "x_train = vectorize_sequences(train_data)\n",
        "x_test = vectorize_sequences(test_data)"
      ],
      "metadata": {
        "id": "9ipgXNEzqX11"
      },
      "execution_count": null,
      "outputs": []
    },
    {
      "cell_type": "markdown",
      "source": [
        "**One-hot encoding for labels.**"
      ],
      "metadata": {
        "id": "9lq8kCijqfF6"
      }
    },
    {
      "cell_type": "code",
      "source": [
        "def to_one_hot(labels, dimension=46):\n",
        "  results = np.zeros((len(labels), dimension))\n",
        "  for i, label in enumerate(labels):\n",
        "    results[i, label] = 1.\n",
        "  return results\n",
        "  \n",
        "one_hot_train_labels = to_one_hot(train_labels)\n",
        "one_hot_test_labels = to_one_hot(test_labels)"
      ],
      "metadata": {
        "id": "KF6m3i7vqg_v"
      },
      "execution_count": null,
      "outputs": []
    },
    {
      "cell_type": "markdown",
      "source": [
        "**Note :** Or we can use to_categorical\n",
        "\n",
        "from keras.utils.np_utils import to_categorical\n",
        "\n",
        "one_hot_train_labels = to_categorical(train_labels)\n",
        "\n",
        "one_hot_test_labels = to_categorical(test_labels)"
      ],
      "metadata": {
        "id": "0HXfWRe7q3yg"
      }
    },
    {
      "cell_type": "markdown",
      "source": [
        "**Model Definition**"
      ],
      "metadata": {
        "id": "GTlNFv_frAv4"
      }
    },
    {
      "cell_type": "code",
      "source": [
        "from keras import models\n",
        "from keras import layers\n",
        "model = models.Sequential()\n",
        "model.add(layers.Dense(64, activation='relu', input_shape=(10000,)))\n",
        "model.add(layers.Dense(64, activation='relu'))\n",
        "model.add(layers.Dense(46, activation='softmax'))"
      ],
      "metadata": {
        "id": "yF0ClhHUq7-p"
      },
      "execution_count": null,
      "outputs": []
    },
    {
      "cell_type": "code",
      "source": [
        "#Compiling\n",
        "model.compile(optimizer='rmsprop',\n",
        "loss='categorical_crossentropy',\n",
        "metrics=['accuracy'])"
      ],
      "metadata": {
        "id": "yOI3hNr7rDnu"
      },
      "execution_count": null,
      "outputs": []
    },
    {
      "cell_type": "markdown",
      "source": [
        "**Validating your approach**\n",
        "\n",
        "Let’s set apart 1,000 samples in the training data to use as a validation set."
      ],
      "metadata": {
        "id": "3cY4alKQrPTB"
      }
    },
    {
      "cell_type": "code",
      "source": [
        "x_val = x_train[:1000]\n",
        "partial_x_train = x_train[1000:]\n",
        "y_val = one_hot_train_labels[:1000]\n",
        "partial_y_train = one_hot_train_labels[1000:]"
      ],
      "metadata": {
        "id": "fHdYM4vzrNkD"
      },
      "execution_count": null,
      "outputs": []
    },
    {
      "cell_type": "markdown",
      "source": [
        "**Training the Model**"
      ],
      "metadata": {
        "id": "WcmBAitMrVk_"
      }
    },
    {
      "cell_type": "code",
      "source": [
        "history = model.fit(partial_x_train,\n",
        "                    partial_y_train,\n",
        "                    epochs=20,\n",
        "                    batch_size=512,\n",
        "                    validation_data=(x_val, y_val))"
      ],
      "metadata": {
        "colab": {
          "base_uri": "https://localhost:8080/"
        },
        "id": "Lw918HszrVC_",
        "outputId": "a42b5ce6-f88e-4f4b-b990-799e1e70c575"
      },
      "execution_count": null,
      "outputs": [
        {
          "output_type": "stream",
          "name": "stdout",
          "text": [
            "Epoch 1/20\n",
            "16/16 [==============================] - 2s 62ms/step - loss: 2.5901 - accuracy: 0.5249 - val_loss: 1.7744 - val_accuracy: 0.6250\n",
            "Epoch 2/20\n",
            "16/16 [==============================] - 1s 50ms/step - loss: 1.4343 - accuracy: 0.7033 - val_loss: 1.3218 - val_accuracy: 0.7210\n",
            "Epoch 3/20\n",
            "16/16 [==============================] - 1s 49ms/step - loss: 1.0676 - accuracy: 0.7707 - val_loss: 1.1651 - val_accuracy: 0.7590\n",
            "Epoch 4/20\n",
            "16/16 [==============================] - 1s 49ms/step - loss: 0.8370 - accuracy: 0.8208 - val_loss: 1.0715 - val_accuracy: 0.7570\n",
            "Epoch 5/20\n",
            "16/16 [==============================] - 1s 48ms/step - loss: 0.6701 - accuracy: 0.8589 - val_loss: 0.9827 - val_accuracy: 0.7930\n",
            "Epoch 6/20\n",
            "16/16 [==============================] - 1s 49ms/step - loss: 0.5320 - accuracy: 0.8879 - val_loss: 0.9482 - val_accuracy: 0.8050\n",
            "Epoch 7/20\n",
            "16/16 [==============================] - 1s 48ms/step - loss: 0.4266 - accuracy: 0.9138 - val_loss: 0.9154 - val_accuracy: 0.8020\n",
            "Epoch 8/20\n",
            "16/16 [==============================] - 1s 49ms/step - loss: 0.3453 - accuracy: 0.9256 - val_loss: 0.9071 - val_accuracy: 0.7990\n",
            "Epoch 9/20\n",
            "16/16 [==============================] - 1s 49ms/step - loss: 0.2825 - accuracy: 0.9371 - val_loss: 0.9172 - val_accuracy: 0.8150\n",
            "Epoch 10/20\n",
            "16/16 [==============================] - 1s 48ms/step - loss: 0.2396 - accuracy: 0.9465 - val_loss: 0.8986 - val_accuracy: 0.8110\n",
            "Epoch 11/20\n",
            "16/16 [==============================] - 1s 49ms/step - loss: 0.2074 - accuracy: 0.9491 - val_loss: 0.9382 - val_accuracy: 0.7990\n",
            "Epoch 12/20\n",
            "16/16 [==============================] - 1s 50ms/step - loss: 0.1819 - accuracy: 0.9510 - val_loss: 0.9376 - val_accuracy: 0.8110\n",
            "Epoch 13/20\n",
            "16/16 [==============================] - 1s 48ms/step - loss: 0.1661 - accuracy: 0.9536 - val_loss: 0.9716 - val_accuracy: 0.7950\n",
            "Epoch 14/20\n",
            "16/16 [==============================] - 1s 48ms/step - loss: 0.1472 - accuracy: 0.9540 - val_loss: 0.9471 - val_accuracy: 0.8050\n",
            "Epoch 15/20\n",
            "16/16 [==============================] - 1s 49ms/step - loss: 0.1394 - accuracy: 0.9545 - val_loss: 0.9813 - val_accuracy: 0.7970\n",
            "Epoch 16/20\n",
            "16/16 [==============================] - 1s 48ms/step - loss: 0.1269 - accuracy: 0.9555 - val_loss: 1.0113 - val_accuracy: 0.7990\n",
            "Epoch 17/20\n",
            "16/16 [==============================] - 1s 48ms/step - loss: 0.1240 - accuracy: 0.9578 - val_loss: 1.0134 - val_accuracy: 0.8030\n",
            "Epoch 18/20\n",
            "16/16 [==============================] - 1s 49ms/step - loss: 0.1174 - accuracy: 0.9572 - val_loss: 1.0660 - val_accuracy: 0.7930\n",
            "Epoch 19/20\n",
            "16/16 [==============================] - 1s 48ms/step - loss: 0.1135 - accuracy: 0.9582 - val_loss: 1.1073 - val_accuracy: 0.7860\n",
            "Epoch 20/20\n",
            "16/16 [==============================] - 1s 48ms/step - loss: 0.1106 - accuracy: 0.9574 - val_loss: 1.1277 - val_accuracy: 0.7960\n"
          ]
        }
      ]
    },
    {
      "cell_type": "code",
      "source": [
        "history_dict = history.history\n",
        "history_dict.keys()"
      ],
      "metadata": {
        "colab": {
          "base_uri": "https://localhost:8080/"
        },
        "id": "hgk-1S3sr-HO",
        "outputId": "8dbed4e3-0b5d-42b1-845a-9365922bfa1c"
      },
      "execution_count": null,
      "outputs": [
        {
          "output_type": "execute_result",
          "data": {
            "text/plain": [
              "dict_keys(['loss', 'accuracy', 'val_loss', 'val_accuracy'])"
            ]
          },
          "metadata": {},
          "execution_count": 53
        }
      ]
    },
    {
      "cell_type": "markdown",
      "source": [
        "**Display its loss and accuracy curves**"
      ],
      "metadata": {
        "id": "R32u57mFrhDp"
      }
    },
    {
      "cell_type": "code",
      "source": [
        "#Plotting the training and validation loss\n",
        "loss = history.history['loss']\n",
        "val_loss = history.history['val_loss']\n",
        "epochs = range(1, len(loss) + 1)\n",
        "plt.plot(epochs, loss, 'bo', label='Training loss')\n",
        "plt.plot(epochs, val_loss, 'b', label='Validation loss')\n",
        "plt.title('Training and validation loss')\n",
        "plt.xlabel('Epochs')\n",
        "plt.ylabel('Loss')\n",
        "plt.legend()\n",
        "plt.show()"
      ],
      "metadata": {
        "colab": {
          "base_uri": "https://localhost:8080/",
          "height": 465
        },
        "id": "iVDTj7sUrjCT",
        "outputId": "7e0b9057-c6d5-48cb-a66b-660f71c75635"
      },
      "execution_count": null,
      "outputs": [
        {
          "output_type": "display_data",
          "data": {
            "image/png": "[encoded data removed]",
            "text/plain": [
              "<Figure size 640x480 with 1 Axes>"
            ]
          },
          "metadata": {}
        }
      ]
    },
    {
      "cell_type": "code",
      "source": [
        "#Plotting the training and validation accuracy\n",
        "plt.clf()\n",
        "acc = history.history['accuracy']\n",
        "val_acc = history.history['val_accuracy']\n",
        "plt.plot(epochs, acc, 'bo', label='Training acc')\n",
        "plt.plot(epochs, val_acc, 'b', label='Validation acc')\n",
        "plt.title('Training and validation accuracy')\n",
        "plt.xlabel('Epochs')\n",
        "plt.ylabel('Loss')\n",
        "plt.legend()\n",
        "plt.show()"
      ],
      "metadata": {
        "colab": {
          "base_uri": "https://localhost:8080/",
          "height": 465
        },
        "id": "TIDWG-5QrnE4",
        "outputId": "a197078f-7199-47dc-9379-2339d1d4551e"
      },
      "execution_count": null,
      "outputs": [
        {
          "output_type": "display_data",
          "data": {
            "image/png": "[encoded data removed]",
            "text/plain": [
              "<Figure size 640x480 with 1 Axes>"
            ]
          },
          "metadata": {}
        }
      ]
    },
    {
      "cell_type": "code",
      "source": [
        "results = model.evaluate(x_test, one_hot_test_labels)"
      ],
      "metadata": {
        "colab": {
          "base_uri": "https://localhost:8080/"
        },
        "id": "1ARE2aEXsKcU",
        "outputId": "c36a309d-14c7-4bb2-d2cc-29606f1e05aa"
      },
      "execution_count": null,
      "outputs": [
        {
          "output_type": "stream",
          "name": "stdout",
          "text": [
            "71/71 [==============================] - 0s 5ms/step - loss: 1.3328 - accuracy: 0.7725\n"
          ]
        }
      ]
    }
  ]
}